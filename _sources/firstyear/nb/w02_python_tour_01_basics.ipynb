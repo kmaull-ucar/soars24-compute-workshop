{
 "cells": [
  {
   "cell_type": "markdown",
   "id": "c5ff563b-6ded-42ea-b79c-f71bcc100ebb",
   "metadata": {},
   "source": [
    "# Basic Python Language \n",
    "\n",
    "Python is an easy language to learn and its syntax is designed to \n",
    "be learned very quickly and to provide little friction to \n",
    "getting directly to the core task of writing programs."
   ]
  },
  {
   "cell_type": "markdown",
   "id": "8b66b631-f314-443e-b8a5-d51d7056ba35",
   "metadata": {},
   "source": [
    "## Variables (names)\n",
    "\n",
    "Variables in Python work as we expect, if you've ever \n",
    "used another language.  Let's see some examples:"
   ]
  },
  {
   "cell_type": "code",
   "execution_count": 1,
   "id": "f96d57d2-2da2-4ddc-9deb-0a01650f9598",
   "metadata": {},
   "outputs": [],
   "source": [
    "a = 1 # set the name a to the value 1"
   ]
  },
  {
   "cell_type": "code",
   "execution_count": 2,
   "id": "0d6021e4-2651-4920-9b00-ecb4238a7d6c",
   "metadata": {},
   "outputs": [],
   "source": [
    "address = \"3020 circle dr.\""
   ]
  },
  {
   "cell_type": "code",
   "execution_count": 5,
   "id": "59c841be-aba4-4798-a707-b464410d0c8b",
   "metadata": {},
   "outputs": [],
   "source": [
    "b = a # set b to the name a which has the value 1"
   ]
  },
  {
   "cell_type": "code",
   "execution_count": 4,
   "id": "f31c9fae-393f-4f6a-b200-3f4933221bf3",
   "metadata": {},
   "outputs": [
    {
     "data": {
      "text/plain": [
       "1"
      ]
     },
     "execution_count": 4,
     "metadata": {},
     "output_type": "execute_result"
    }
   ],
   "source": [
    "b"
   ]
  },
  {
   "cell_type": "markdown",
   "id": "413bee97-f40d-4315-a304-455471004514",
   "metadata": {},
   "source": [
    "Later when we talk about functions, we'll revisit these concepts."
   ]
  },
  {
   "cell_type": "markdown",
   "id": "dd113770-a3ec-459a-9db7-98993f00dd52",
   "metadata": {},
   "source": [
    "## Types\n",
    "While Python is considered a \"typed\" language, it is also what we call \"dynamically typed\".  \n",
    "\n",
    "These fancy terms should scare you, instead, what you need to know is that a \"type\" is a \"thing\" with a specific expected set of behaviors or properties.\n",
    "\n",
    "\"Types\" are recognizable everywhere:\n",
    "\n",
    "* a number is a type\n",
    "* a letter is a type\n",
    "* a word is a type composed of letters\n",
    "\n",
    "Now we can move these ideas directly into Python (and add some more things to it).\n",
    "\n",
    "Think about a \"type\" on Python as a \"thing\" that holds data of some sort.  Data could be:\n",
    "\n",
    "* numbers\n",
    "* strings (sequence of characters)\n",
    "* lists\n",
    "\n",
    "Let's dig in:"
   ]
  },
  {
   "cell_type": "markdown",
   "id": "614a9ee9-7c9e-4f49-b43d-8b3738bcaadb",
   "metadata": {},
   "source": [
    "### Numbers\n",
    "\n",
    "The basic Python numbers can be integers and floats: "
   ]
  },
  {
   "cell_type": "code",
   "execution_count": 7,
   "id": "81281ed4-5654-4bb6-a63b-3d813888c59b",
   "metadata": {},
   "outputs": [
    {
     "data": {
      "text/plain": [
       "1"
      ]
     },
     "execution_count": 7,
     "metadata": {},
     "output_type": "execute_result"
    }
   ],
   "source": [
    "a = 1 # integer\n",
    "a"
   ]
  },
  {
   "cell_type": "code",
   "execution_count": 9,
   "id": "4e9109ed-126e-4c68-ad57-b840d9229fc7",
   "metadata": {},
   "outputs": [
    {
     "data": {
      "text/plain": [
       "2.4"
      ]
     },
     "execution_count": 9,
     "metadata": {},
     "output_type": "execute_result"
    }
   ],
   "source": [
    "b = 2.4 # float\n",
    "b"
   ]
  },
  {
   "cell_type": "code",
   "execution_count": 10,
   "id": "63f505e1-57d4-4089-a843-9730cbe63e67",
   "metadata": {},
   "outputs": [
    {
     "data": {
      "text/plain": [
       "3.4"
      ]
     },
     "execution_count": 10,
     "metadata": {},
     "output_type": "execute_result"
    }
   ],
   "source": [
    "a + b  # float + int"
   ]
  },
  {
   "cell_type": "markdown",
   "id": "e6d29add-7a3f-49c6-8525-8ae0ce8baf46",
   "metadata": {},
   "source": [
    "### Strings\n",
    "String are sequences of characters ... like your name, or your address or just about anything else that can be expressed as characters:"
   ]
  },
  {
   "cell_type": "code",
   "execution_count": 11,
   "id": "b3f411d6-a41b-4756-8a6a-d3cb1d3c3b30",
   "metadata": {},
   "outputs": [
    {
     "data": {
      "text/plain": [
       "'harold'"
      ]
     },
     "execution_count": 11,
     "metadata": {},
     "output_type": "execute_result"
    }
   ],
   "source": [
    "s1 = \"harold\"\n",
    "s1"
   ]
  },
  {
   "cell_type": "code",
   "execution_count": 13,
   "id": "719972d5-28b8-4637-af45-3c9a549a54f8",
   "metadata": {},
   "outputs": [
    {
     "data": {
      "text/plain": [
       "'know this is a longer string'"
      ]
     },
     "execution_count": 13,
     "metadata": {},
     "output_type": "execute_result"
    }
   ],
   "source": [
    "s2 = \"know this is a longer string\"\n",
    "s2"
   ]
  },
  {
   "cell_type": "code",
   "execution_count": 16,
   "id": "3c1f24b2-665d-43d2-83ec-787269c97a3f",
   "metadata": {},
   "outputs": [
    {
     "data": {
      "text/plain": [
       "'harold, know this is a longer string'"
      ]
     },
     "execution_count": 16,
     "metadata": {},
     "output_type": "execute_result"
    }
   ],
   "source": [
    "s1 + \", \" + s2 "
   ]
  },
  {
   "cell_type": "markdown",
   "id": "fdab21fc-1407-486e-896c-c89de0fd51cb",
   "metadata": {},
   "source": [
    "### Lists\n",
    "\n",
    "Lists are the final type we'll dig into directly -- we leave it as\n",
    "an exercise to learn about [tuples](), [dictionaries]() and [sets]().\n",
    "\n",
    "As you think about strings, linger for a moment on the phrase used\n",
    "to describe them: \"a sequence of characters\".\n",
    "\n",
    "What this is conveying is that a string, while we _see_ it as a whole\n",
    "string but it is really just a sequence of characters.\n",
    "\n",
    "How might we hold that \"sequence\"?\n",
    "\n",
    "Lists are a natural data structure for the job, and as we will see in Python,\n",
    "a list can be a powerful data structure for many, many things in our\n",
    "programs.\n",
    "\n",
    "Let's see:"
   ]
  },
  {
   "cell_type": "code",
   "execution_count": 17,
   "id": "7f541062-b8a9-4263-bc34-0bf6a2354729",
   "metadata": {},
   "outputs": [
    {
     "data": {
      "text/plain": [
       "'a'"
      ]
     },
     "execution_count": 17,
     "metadata": {},
     "output_type": "execute_result"
    }
   ],
   "source": [
    "'a' # is a character or a string with one character"
   ]
  },
  {
   "cell_type": "code",
   "execution_count": 18,
   "id": "5e294468-a32c-48e1-874c-231863d31195",
   "metadata": {},
   "outputs": [
    {
     "data": {
      "text/plain": [
       "'ab'"
      ]
     },
     "execution_count": 18,
     "metadata": {},
     "output_type": "execute_result"
    }
   ],
   "source": [
    "'ab' # is a string with two characters"
   ]
  },
  {
   "cell_type": "code",
   "execution_count": 21,
   "id": "f21740db-e88d-4b06-926d-0f66eb70a7d2",
   "metadata": {},
   "outputs": [
    {
     "data": {
      "text/plain": [
       "['a', 'b']"
      ]
     },
     "execution_count": 21,
     "metadata": {},
     "output_type": "execute_result"
    }
   ],
   "source": [
    "l1 = ['a', 'b'] # is a list of characters\n",
    "l1"
   ]
  },
  {
   "cell_type": "code",
   "execution_count": 22,
   "id": "c0221b60-ffd7-4e95-889c-3bc7054d53cc",
   "metadata": {},
   "outputs": [
    {
     "data": {
      "text/plain": [
       "'a'"
      ]
     },
     "execution_count": 22,
     "metadata": {},
     "output_type": "execute_result"
    }
   ],
   "source": [
    "l1[0] # is the first element in the 0-based index list"
   ]
  },
  {
   "cell_type": "code",
   "execution_count": 23,
   "id": "a041827c-0801-44db-96e0-f311477ce108",
   "metadata": {},
   "outputs": [
    {
     "data": {
      "text/plain": [
       "'b'"
      ]
     },
     "execution_count": 23,
     "metadata": {},
     "output_type": "execute_result"
    }
   ],
   "source": [
    "l1[1] # is the second element in the 0-based index list"
   ]
  },
  {
   "cell_type": "code",
   "execution_count": 25,
   "id": "d8dbc32c-1635-4e81-9aee-b98415011483",
   "metadata": {},
   "outputs": [
    {
     "data": {
      "text/plain": [
       "'ab'"
      ]
     },
     "execution_count": 25,
     "metadata": {},
     "output_type": "execute_result"
    }
   ],
   "source": [
    "l1[0] + l1[1] # concating the two characters into a string"
   ]
  },
  {
   "cell_type": "markdown",
   "id": "e107b321-de92-447a-9cc4-0843a478ef71",
   "metadata": {},
   "source": [
    "What else can we put in a list?\n",
    "\n",
    "* numbers \n",
    "* and just about anything else, including other lists and mixed types of things"
   ]
  },
  {
   "cell_type": "code",
   "execution_count": 26,
   "id": "ebf61242-a01a-416f-943b-b2c0e73ba7b0",
   "metadata": {},
   "outputs": [
    {
     "data": {
      "text/plain": [
       "[1, 2, 3, 4, 5]"
      ]
     },
     "execution_count": 26,
     "metadata": {},
     "output_type": "execute_result"
    }
   ],
   "source": [
    "[1, 2, 3, 4, 5] # a list of numbers"
   ]
  },
  {
   "cell_type": "code",
   "execution_count": 27,
   "id": "71252b77-410e-4d57-a01d-1025ea43aa37",
   "metadata": {},
   "outputs": [
    {
     "data": {
      "text/plain": [
       "['a', 'b', 'c']"
      ]
     },
     "execution_count": 27,
     "metadata": {},
     "output_type": "execute_result"
    }
   ],
   "source": [
    "['a', 'b', 'c'] # a list of character strings"
   ]
  },
  {
   "cell_type": "code",
   "execution_count": 28,
   "id": "6a231d1d-4974-463c-812f-242b8695d34d",
   "metadata": {},
   "outputs": [
    {
     "data": {
      "text/plain": [
       "['a', 1, 'b', 2, 'c', 3]"
      ]
     },
     "execution_count": 28,
     "metadata": {},
     "output_type": "execute_result"
    }
   ],
   "source": [
    "['a', 1, 'b', 2, 'c', 3] # a list of characters AND strings"
   ]
  },
  {
   "cell_type": "code",
   "execution_count": 29,
   "id": "329f1675-e8b5-4b6e-b0c7-0a5af8407cce",
   "metadata": {},
   "outputs": [
    {
     "data": {
      "text/plain": [
       "['a', 1, ['b', 2, ['c', '3']]]"
      ]
     },
     "execution_count": 29,
     "metadata": {},
     "output_type": "execute_result"
    }
   ],
   "source": [
    "['a', 1, ['b', 2, ['c', '3']]] # a list of characters, strings AND lists"
   ]
  },
  {
   "cell_type": "markdown",
   "id": "072d482f-3129-41b3-a9d6-5503cf6483b1",
   "metadata": {},
   "source": [
    "... and so on.  You can see lists are powerful tools."
   ]
  },
  {
   "cell_type": "markdown",
   "id": "41e28225-23fe-40da-bbdc-85db74c0ab2b",
   "metadata": {},
   "source": [
    "## More resources:\n",
    "\n",
    "You can get some more practice with these concepts:\n",
    "\n",
    "* [Python Introduction](https://docs.python.org/3/tutorial/introduction.html) on [python.org](https://python.org)\n",
    "* [Python Data Structures](https://docs.python.org/3/tutorial/datastructures.html) on [python.org](https://python.org)"
   ]
  }
 ],
 "metadata": {
  "kernelspec": {
   "display_name": "Python 3 (ipykernel)",
   "language": "python",
   "name": "python3"
  },
  "language_info": {
   "codemirror_mode": {
    "name": "ipython",
    "version": 3
   },
   "file_extension": ".py",
   "mimetype": "text/x-python",
   "name": "python",
   "nbconvert_exporter": "python",
   "pygments_lexer": "ipython3",
   "version": "3.8.11"
  }
 },
 "nbformat": 4,
 "nbformat_minor": 5
}
