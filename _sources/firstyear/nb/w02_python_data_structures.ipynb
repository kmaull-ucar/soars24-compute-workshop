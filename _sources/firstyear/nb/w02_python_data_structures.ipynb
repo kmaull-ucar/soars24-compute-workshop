{
 "cells": [
  {
   "cell_type": "markdown",
   "id": "8d62be9b-5958-4192-abb2-85a5434f64ad",
   "metadata": {},
   "source": [
    "# Key Python data structures"
   ]
  },
  {
   "cell_type": "markdown",
   "id": "313d8160-ae02-42a0-8bce-d9111204439d",
   "metadata": {
    "tags": []
   },
   "source": [
    "## Lists\n",
    "\n",
    "Python's core data type is the list.  With Python lists you can easily use them as:\n",
    "\n",
    "* arrays (1 or n-dimension)\n",
    "* stacks\n",
    "* queues\n",
    "* ... and other structures\n",
    "\n",
    "You will also know that lists are supported in nearly every other library (like Pandas and Numpy), making them an ideal pivot type from one form to another.\n",
    "\n",
    "Remember that:\n",
    "\n",
    "* **values** of a list can be any object (including other lists)\n",
    "\n",
    "Let's play ..."
   ]
  },
  {
   "cell_type": "code",
   "execution_count": 1,
   "id": "2df02fa2-ddde-4d16-a11a-58fcdcff76a0",
   "metadata": {},
   "outputs": [
    {
     "data": {
      "text/plain": [
       "[1, 2, 3]"
      ]
     },
     "execution_count": 1,
     "metadata": {},
     "output_type": "execute_result"
    }
   ],
   "source": [
    "[1,2,3] # a simple list"
   ]
  },
  {
   "cell_type": "code",
   "execution_count": 2,
   "id": "126c5ed9-40f4-470a-8829-7055abbaac9c",
   "metadata": {},
   "outputs": [
    {
     "data": {
      "text/plain": [
       "[1, 'a', <function max>]"
      ]
     },
     "execution_count": 2,
     "metadata": {},
     "output_type": "execute_result"
    }
   ],
   "source": [
    "[1, \"a\", max] # a complex list"
   ]
  },
  {
   "cell_type": "code",
   "execution_count": 3,
   "id": "b64a2409-8056-4630-ad7f-015750ab1028",
   "metadata": {},
   "outputs": [
    {
     "data": {
      "text/plain": [
       "[[<function max>, [1, 2, 3]], [<function min>, [-1, 0, 1]]]"
      ]
     },
     "execution_count": 3,
     "metadata": {},
     "output_type": "execute_result"
    }
   ],
   "source": [
    "[[max, [1,2,3]], [min, [-1, 0, 1]]] # a more complex list"
   ]
  },
  {
   "cell_type": "markdown",
   "id": "78413050-0e71-48e1-b4c6-2dec845793f6",
   "metadata": {},
   "source": [
    "### Challenge (Optional)\n",
    "\n",
    "Explain what this code does and **how** it does it:"
   ]
  },
  {
   "cell_type": "code",
   "execution_count": 4,
   "id": "f74e2bb0-8526-44f6-8973-7ca5e8ecc5d1",
   "metadata": {},
   "outputs": [
    {
     "name": "stdout",
     "output_type": "stream",
     "text": [
      "3\n",
      "-1\n"
     ]
    }
   ],
   "source": [
    "mystery_list = [[max, [1,2,3]], [min, [-1, 0, 1]]]\n",
    "\n",
    "for d in mystery_list:\n",
    "    print(d[0](d[1]))"
   ]
  },
  {
   "cell_type": "markdown",
   "id": "338dc561-dc91-4d9c-9f98-c53ae9f93eda",
   "metadata": {},
   "source": [
    "Whoa!"
   ]
  },
  {
   "cell_type": "markdown",
   "id": "161be70d-6c6b-4270-8a97-5cefa64aa907",
   "metadata": {},
   "source": [
    "Lists are everywhere, and we won't belabor the point.  You cannot really use Python without them and you won't find that you'll want to once you grasp their essence."
   ]
  },
  {
   "cell_type": "markdown",
   "id": "fd0ca174-3962-4c5b-9a1c-4ba0696a795d",
   "metadata": {},
   "source": [
    "### List operations"
   ]
  },
  {
   "cell_type": "code",
   "execution_count": 1,
   "id": "0ba818b1-895e-443e-8dc0-2516775a01bc",
   "metadata": {},
   "outputs": [],
   "source": [
    "a_sample_list = [1,2,3,4,5]"
   ]
  },
  {
   "cell_type": "code",
   "execution_count": 2,
   "id": "da84e7f0-a481-4a3d-a910-c3dac55d83a7",
   "metadata": {},
   "outputs": [
    {
     "data": {
      "text/plain": [
       "5"
      ]
     },
     "execution_count": 2,
     "metadata": {},
     "output_type": "execute_result"
    }
   ],
   "source": [
    "len(a_sample_list)"
   ]
  },
  {
   "cell_type": "code",
   "execution_count": 3,
   "id": "0df1e18f-6e83-4c93-b0d9-7dbc0101f2e8",
   "metadata": {},
   "outputs": [
    {
     "data": {
      "text/plain": [
       "2"
      ]
     },
     "execution_count": 3,
     "metadata": {},
     "output_type": "execute_result"
    }
   ],
   "source": [
    "a_sample_list[1] # ==> 2"
   ]
  },
  {
   "cell_type": "code",
   "execution_count": 4,
   "id": "7f83d425-6890-4c9a-82d3-7991203ac75c",
   "metadata": {},
   "outputs": [
    {
     "data": {
      "text/plain": [
       "5"
      ]
     },
     "execution_count": 4,
     "metadata": {},
     "output_type": "execute_result"
    }
   ],
   "source": [
    "a_sample_list[-1] # walk backwards 1 ==> 5"
   ]
  },
  {
   "cell_type": "code",
   "execution_count": 6,
   "id": "59897cc9-2f0d-4e1d-add7-79217b07077c",
   "metadata": {},
   "outputs": [
    {
     "data": {
      "text/plain": [
       "[2, 3]"
      ]
     },
     "execution_count": 6,
     "metadata": {},
     "output_type": "execute_result"
    }
   ],
   "source": [
    "a_sample_list[1:3] # index 1 and 2 items"
   ]
  },
  {
   "cell_type": "code",
   "execution_count": 8,
   "id": "803bec62-f588-4e4c-8ea0-db61ab37ae39",
   "metadata": {},
   "outputs": [
    {
     "data": {
      "text/plain": [
       "[2, 3]"
      ]
     },
     "execution_count": 8,
     "metadata": {},
     "output_type": "execute_result"
    }
   ],
   "source": [
    "a_sample_list[-4:-2] # idx 5-4=1, 5-2=3"
   ]
  },
  {
   "cell_type": "code",
   "execution_count": 9,
   "id": "d12c280a-be76-4ae3-9017-318bde951b3f",
   "metadata": {},
   "outputs": [
    {
     "data": {
      "text/plain": [
       "[3, 4, 5]"
      ]
     },
     "execution_count": 9,
     "metadata": {},
     "output_type": "execute_result"
    }
   ],
   "source": [
    "a_sample_list[-3:]"
   ]
  },
  {
   "cell_type": "code",
   "execution_count": 10,
   "id": "175e3377-a38a-4c4d-a4df-4866a99f1385",
   "metadata": {},
   "outputs": [
    {
     "data": {
      "text/plain": [
       "[3, 4, 5]"
      ]
     },
     "execution_count": 10,
     "metadata": {},
     "output_type": "execute_result"
    }
   ],
   "source": [
    "a_sample_list[2:]"
   ]
  },
  {
   "cell_type": "code",
   "execution_count": 11,
   "id": "2276cf5a-0b0c-47a1-9980-913b79480100",
   "metadata": {},
   "outputs": [
    {
     "data": {
      "text/plain": [
       "[3, 4]"
      ]
     },
     "execution_count": 11,
     "metadata": {},
     "output_type": "execute_result"
    }
   ],
   "source": [
    "a_sample_list[2:4]"
   ]
  },
  {
   "cell_type": "code",
   "execution_count": 14,
   "id": "a4517ec3-c313-49e7-a68d-4e0f92264a7d",
   "metadata": {},
   "outputs": [
    {
     "data": {
      "text/plain": [
       "[1, 2, 3, 4, 5, 1, 2, 3, 4, 5]"
      ]
     },
     "execution_count": 14,
     "metadata": {},
     "output_type": "execute_result"
    }
   ],
   "source": [
    "a_sample_list + a_sample_list"
   ]
  },
  {
   "cell_type": "code",
   "execution_count": 15,
   "id": "9d88d265-49d0-4ea9-b19c-e91292951064",
   "metadata": {},
   "outputs": [
    {
     "data": {
      "text/plain": [
       "[2, 4, 5]"
      ]
     },
     "execution_count": 15,
     "metadata": {},
     "output_type": "execute_result"
    }
   ],
   "source": [
    "a_sample_list[1:2] + a_sample_list[3:]"
   ]
  },
  {
   "cell_type": "code",
   "execution_count": 16,
   "id": "0db811d6-00a2-4e92-bd1d-a21caf94b51c",
   "metadata": {},
   "outputs": [
    {
     "data": {
      "text/plain": [
       "True"
      ]
     },
     "execution_count": 16,
     "metadata": {},
     "output_type": "execute_result"
    }
   ],
   "source": [
    "1 in a_sample_list"
   ]
  },
  {
   "cell_type": "code",
   "execution_count": 21,
   "id": "7c482238-d3e9-4970-a23a-44978f299f9c",
   "metadata": {},
   "outputs": [
    {
     "data": {
      "text/plain": [
       "1"
      ]
     },
     "execution_count": 21,
     "metadata": {},
     "output_type": "execute_result"
    }
   ],
   "source": [
    "a_sample_list.count(2) # count how many 2s are in the list"
   ]
  },
  {
   "cell_type": "code",
   "execution_count": 22,
   "id": "5433767a-7545-4f5b-8d4f-679a0e2c406c",
   "metadata": {},
   "outputs": [
    {
     "data": {
      "text/plain": [
       "0"
      ]
     },
     "execution_count": 22,
     "metadata": {},
     "output_type": "execute_result"
    }
   ],
   "source": [
    "a_sample_list.count(7) # count how many 7s are in the list"
   ]
  },
  {
   "cell_type": "code",
   "execution_count": 23,
   "id": "e11bd1f7-de2c-4851-8ab0-bbde5c239ea8",
   "metadata": {},
   "outputs": [],
   "source": [
    "a_sample_list.reverse() "
   ]
  },
  {
   "cell_type": "code",
   "execution_count": 24,
   "id": "fbe6996c-2f46-4e9b-a626-537ed800d0fc",
   "metadata": {},
   "outputs": [
    {
     "data": {
      "text/plain": [
       "[5, 4, 3, 2, 1]"
      ]
     },
     "execution_count": 24,
     "metadata": {},
     "output_type": "execute_result"
    }
   ],
   "source": [
    "a_sample_list"
   ]
  },
  {
   "cell_type": "code",
   "execution_count": 25,
   "id": "c4182225-c30f-413b-8087-f45e959afdbf",
   "metadata": {},
   "outputs": [],
   "source": [
    "a_sample_list.sort()"
   ]
  },
  {
   "cell_type": "code",
   "execution_count": 26,
   "id": "4b13eb88-65fa-45b5-8a71-ed6c4de932f6",
   "metadata": {},
   "outputs": [
    {
     "data": {
      "text/plain": [
       "[1, 2, 3, 4, 5]"
      ]
     },
     "execution_count": 26,
     "metadata": {},
     "output_type": "execute_result"
    }
   ],
   "source": [
    "a_sample_list"
   ]
  },
  {
   "cell_type": "markdown",
   "id": "7afa8515-c29e-4aa6-9214-f60be8830478",
   "metadata": {
    "tags": []
   },
   "source": [
    "##  Dictionaries\n",
    "\n",
    "Dictionaries are another key data structure in Python -- they are essentially _key-value pairs_ and are also used nearly everywhere, in and out of Python.  The essence of a key-value pair is encoded in data structures of all kinds -- and the term \"dictionary\" more or less tells us what we need to know, since the literal dictionary is just a bunch of keys (words) and their values (definitions of words).\n",
    "\n",
    "Dictionaries will provide you a more complex structuring of data that allow different structured over lists, but they are just as easy to manipulate, and are also easy to convert to other things like JSON files, CSV, etc.\n",
    "\n",
    "Just remember:\n",
    "\n",
    "* **keys** are unique\n",
    "* **values** can be any object (including another dictionary)\n",
    "\n",
    "Let's play ..."
   ]
  },
  {
   "cell_type": "code",
   "execution_count": 27,
   "id": "f3423686-2f5a-409a-902b-b0ca55e7c783",
   "metadata": {},
   "outputs": [
    {
     "data": {
      "text/plain": [
       "{}"
      ]
     },
     "execution_count": 27,
     "metadata": {},
     "output_type": "execute_result"
    }
   ],
   "source": [
    "{}"
   ]
  },
  {
   "cell_type": "code",
   "execution_count": 28,
   "id": "13486191-c551-4f55-8ea3-5f9fdc5088d4",
   "metadata": {},
   "outputs": [
    {
     "data": {
      "text/plain": [
       "{1: 'hello', 2: 'goodbye'}"
      ]
     },
     "execution_count": 28,
     "metadata": {},
     "output_type": "execute_result"
    }
   ],
   "source": [
    "{1: \"hello\", 2: \"goodbye\"}"
   ]
  },
  {
   "cell_type": "code",
   "execution_count": 29,
   "id": "b9b5d2c6-d384-40b1-8218-ae7b7a3b5c14",
   "metadata": {},
   "outputs": [],
   "source": [
    "d = {1: \"hello\", 2: \"goodbye\"}"
   ]
  },
  {
   "cell_type": "code",
   "execution_count": 30,
   "id": "56234116-da7b-451b-ac9b-896b9d0efbff",
   "metadata": {},
   "outputs": [
    {
     "data": {
      "text/plain": [
       "'hello'"
      ]
     },
     "execution_count": 30,
     "metadata": {},
     "output_type": "execute_result"
    }
   ],
   "source": [
    "d[1]"
   ]
  },
  {
   "cell_type": "code",
   "execution_count": 31,
   "id": "5fc8c372-a909-462e-87a4-84a1eb836736",
   "metadata": {},
   "outputs": [
    {
     "data": {
      "text/plain": [
       "'goodbye'"
      ]
     },
     "execution_count": 31,
     "metadata": {},
     "output_type": "execute_result"
    }
   ],
   "source": [
    "d[2]"
   ]
  },
  {
   "cell_type": "code",
   "execution_count": 32,
   "id": "06df926f-00c1-4890-b900-14313945cb69",
   "metadata": {},
   "outputs": [
    {
     "data": {
      "text/plain": [
       "dict_keys([1, 2])"
      ]
     },
     "execution_count": 32,
     "metadata": {},
     "output_type": "execute_result"
    }
   ],
   "source": [
    "d.keys()"
   ]
  },
  {
   "cell_type": "code",
   "execution_count": 33,
   "id": "66fb04cb-7225-44e7-85f2-9a5336bf16b9",
   "metadata": {},
   "outputs": [
    {
     "data": {
      "text/plain": [
       "dict_values(['hello', 'goodbye'])"
      ]
     },
     "execution_count": 33,
     "metadata": {},
     "output_type": "execute_result"
    }
   ],
   "source": [
    "d.values()"
   ]
  },
  {
   "cell_type": "code",
   "execution_count": 34,
   "id": "56f36e55-7602-477b-ae6a-d228b7fcdff2",
   "metadata": {},
   "outputs": [
    {
     "name": "stdout",
     "output_type": "stream",
     "text": [
      "key: 1 ==> value: hello\n",
      "key: 2 ==> value: goodbye\n"
     ]
    }
   ],
   "source": [
    "for key, value in d.items():\n",
    "    print(f\"key: {key} ==> value: {value}\")"
   ]
  },
  {
   "cell_type": "code",
   "execution_count": 41,
   "id": "029771fc-4508-4fd1-8b36-c0d5dafd6f83",
   "metadata": {},
   "outputs": [],
   "source": [
    "d.update({1:'hola'}) # give a dictionary as input, update the existing dictionary if the keys exist"
   ]
  },
  {
   "cell_type": "code",
   "execution_count": 42,
   "id": "95e0047b-29af-4f10-a804-9e6cd4b7563e",
   "metadata": {},
   "outputs": [
    {
     "data": {
      "text/plain": [
       "{1: 'hola', 2: 'goodbye'}"
      ]
     },
     "execution_count": 42,
     "metadata": {},
     "output_type": "execute_result"
    }
   ],
   "source": [
    "d"
   ]
  },
  {
   "cell_type": "code",
   "execution_count": 43,
   "id": "cc73cd9b-14a7-4b3b-bce5-ca8367569abb",
   "metadata": {},
   "outputs": [],
   "source": [
    "d.update({3:'welcome'})"
   ]
  },
  {
   "cell_type": "code",
   "execution_count": 44,
   "id": "9f3bfb10-3890-4b97-af50-eee73afcd198",
   "metadata": {},
   "outputs": [
    {
     "data": {
      "text/plain": [
       "{1: 'hola', 2: 'goodbye', 3: 'welcome'}"
      ]
     },
     "execution_count": 44,
     "metadata": {},
     "output_type": "execute_result"
    }
   ],
   "source": [
    "d"
   ]
  },
  {
   "cell_type": "code",
   "execution_count": 45,
   "id": "7684f7d1-0e66-473e-a261-f61671bede45",
   "metadata": {},
   "outputs": [],
   "source": [
    "d.clear() # empty the dictionary"
   ]
  },
  {
   "cell_type": "code",
   "execution_count": 46,
   "id": "d2e25ff4-a259-4efd-88e6-5f8c9bb12760",
   "metadata": {},
   "outputs": [
    {
     "data": {
      "text/plain": [
       "{}"
      ]
     },
     "execution_count": 46,
     "metadata": {},
     "output_type": "execute_result"
    }
   ],
   "source": [
    "d"
   ]
  },
  {
   "cell_type": "code",
   "execution_count": null,
   "id": "3a0dd659-2d8b-4d53-913d-76d294e694ce",
   "metadata": {},
   "outputs": [],
   "source": []
  }
 ],
 "metadata": {
  "kernelspec": {
   "display_name": "Python 3 (ipykernel)",
   "language": "python",
   "name": "python3"
  },
  "language_info": {
   "codemirror_mode": {
    "name": "ipython",
    "version": 3
   },
   "file_extension": ".py",
   "mimetype": "text/x-python",
   "name": "python",
   "nbconvert_exporter": "python",
   "pygments_lexer": "ipython3",
   "version": "3.10.9"
  }
 },
 "nbformat": 4,
 "nbformat_minor": 5
}
