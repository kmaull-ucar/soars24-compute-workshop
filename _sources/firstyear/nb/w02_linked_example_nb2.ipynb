{
 "cells": [
  {
   "cell_type": "markdown",
   "id": "4e3dd4ba-5b78-4ec9-b6d3-dd5a7ef0c399",
   "metadata": {},
   "source": [
    "# Linked Notebook Example\n",
    "\n",
    "**NOTEBOOK #2**\n",
    "\n",
    "This is a continuation of \n",
    "\n",
    "* the prior notebook [can be found here](./w02_linked_example_nb1.ipynb)\n",
    "\n",
    "Don't forget it might be nice to know that this notebook is linked form another notebook."
   ]
  },
  {
   "cell_type": "code",
   "execution_count": 1,
   "id": "b33e4d3a-4a28-452c-9efd-a6b6e7272320",
   "metadata": {},
   "outputs": [
    {
     "name": "stdout",
     "output_type": "stream",
     "text": [
      "00000\n",
      "00001\n",
      "00002\n",
      "00003\n",
      "00004\n",
      "00005\n",
      "00006\n",
      "00007\n",
      "00008\n",
      "00009\n"
     ]
    }
   ],
   "source": [
    "for i in range(0,10):\n",
    "    print(f\"{i:05}\")"
   ]
  },
  {
   "cell_type": "markdown",
   "id": "834d70af-19e1-48c2-a265-50fdc73123b3",
   "metadata": {},
   "source": [
    "And now we move on to unraveling the final complexities at hand in the [next notebook](./w02_linked_example_nb3.ipynb)."
   ]
  }
 ],
 "metadata": {
  "kernelspec": {
   "display_name": "Python 3 (ipykernel)",
   "language": "python",
   "name": "python3"
  },
  "language_info": {
   "codemirror_mode": {
    "name": "ipython",
    "version": 3
   },
   "file_extension": ".py",
   "mimetype": "text/x-python",
   "name": "python",
   "nbconvert_exporter": "python",
   "pygments_lexer": "ipython3",
   "version": "3.8.16"
  }
 },
 "nbformat": 4,
 "nbformat_minor": 5
}
