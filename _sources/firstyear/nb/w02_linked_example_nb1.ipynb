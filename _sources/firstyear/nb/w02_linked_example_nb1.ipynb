{
 "cells": [
  {
   "cell_type": "markdown",
   "id": "89398b11-78b8-42e1-87bc-d680ea21b146",
   "metadata": {},
   "source": [
    "# Linked Notebook Example\n",
    "\n",
    "**NOTEBOOK #1**\n",
    "\n",
    "This is a complex notebook ... that isn't complex, but shows the value of linking."
   ]
  },
  {
   "cell_type": "code",
   "execution_count": 1,
   "id": "631232fa-4003-454d-80d3-da4b5fbec286",
   "metadata": {},
   "outputs": [
    {
     "name": "stdout",
     "output_type": "stream",
     "text": [
      "there's nothing complex here\n"
     ]
    }
   ],
   "source": [
    "# assume some complex code is here\n",
    "print(\"there's nothing complex here\")"
   ]
  },
  {
   "cell_type": "markdown",
   "id": "bac94e72-8f1a-47c6-b9b2-f073dffdd6cb",
   "metadata": {},
   "source": [
    "But in the [next notebook](./w02_linked_example_nb2.ipynb) we might end up with something more complex still!"
   ]
  }
 ],
 "metadata": {
  "kernelspec": {
   "display_name": "Python 3 (ipykernel)",
   "language": "python",
   "name": "python3"
  },
  "language_info": {
   "codemirror_mode": {
    "name": "ipython",
    "version": 3
   },
   "file_extension": ".py",
   "mimetype": "text/x-python",
   "name": "python",
   "nbconvert_exporter": "python",
   "pygments_lexer": "ipython3",
   "version": "3.8.16"
  }
 },
 "nbformat": 4,
 "nbformat_minor": 5
}
