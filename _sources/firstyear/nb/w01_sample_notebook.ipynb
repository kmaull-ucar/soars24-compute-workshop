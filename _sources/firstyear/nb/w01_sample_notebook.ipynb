{
 "cells": [
  {
   "cell_type": "markdown",
   "id": "047dc9ac-c6ff-42ea-9116-d2f5e06f6efd",
   "metadata": {},
   "source": [
    "# Notebook Purpose\n",
    "\n",
    "The purpose of this notebook is to describe and implement the algorithm to **find the largest number of consecutive zeros** in a given sequence (list).\n",
    "\n",
    "## Problem\n",
    "\n",
    "Given a binary vector of length $n$, find the  the longest sequence of consecutive zeros."
   ]
  },
  {
   "cell_type": "markdown",
   "id": "6b57e6eb-ec90-4254-9ecb-7b50716a5945",
   "metadata": {},
   "source": [
    "## Implementation"
   ]
  },
  {
   "cell_type": "code",
   "execution_count": 1,
   "id": "86ab1871-1b1a-48b8-b41b-459509768ad0",
   "metadata": {},
   "outputs": [],
   "source": [
    "def largest_zero_count(m):\n",
    "    highest_count = 0\n",
    "    current_count = 0\n",
    "\n",
    "    for i in vector:\n",
    "        if i == 0:\n",
    "            current_count+=1\n",
    "            if current_count > highest_count:\n",
    "                highest_count = current_count\n",
    "                \n",
    "            # a more Pythonic way might be highest_count = max(current_count, highest_count)\n",
    "        else:\n",
    "            current_count = 0\n",
    "            \n",
    "    return highest_count"
   ]
  },
  {
   "cell_type": "markdown",
   "id": "163578ab-6d45-40a3-922e-c7aea51b9699",
   "metadata": {},
   "source": [
    "## Test"
   ]
  },
  {
   "cell_type": "code",
   "execution_count": 2,
   "id": "a1656c6f-eebc-48a9-9bef-5be0f8eb3c96",
   "metadata": {},
   "outputs": [
    {
     "data": {
      "text/plain": [
       "18"
      ]
     },
     "execution_count": 2,
     "metadata": {},
     "output_type": "execute_result"
    }
   ],
   "source": [
    "import random # use the [`random`]() module to select a 1 or a zero.\n",
    "\n",
    "vector = []\n",
    "elements = 100*100\n",
    "\n",
    "vector = [random.randint(0,1) for c in range(0, elements)]\n",
    "\n",
    "# run it!\n",
    "largest_zero_count(vector)"
   ]
  },
  {
   "cell_type": "markdown",
   "id": "e866fa93-ce07-4c7c-8169-7a3052f9c158",
   "metadata": {},
   "source": [
    "## References"
   ]
  },
  {
   "cell_type": "markdown",
   "id": "9d3630c9-6a61-46b6-a7ac-ac39b797d5db",
   "metadata": {},
   "source": [
    "1. “Algorithms in C.” Choice Reviews Online, vol. 28, no. 03, Nov. 1990, pp. 28-1598-28–1598. DOI.org (Crossref), https://doi.org/10.5860/CHOICE.28-1598.\n"
   ]
  }
 ],
 "metadata": {
  "kernelspec": {
   "display_name": "Python 3 (ipykernel)",
   "language": "python",
   "name": "python3"
  },
  "language_info": {
   "codemirror_mode": {
    "name": "ipython",
    "version": 3
   },
   "file_extension": ".py",
   "mimetype": "text/x-python",
   "name": "python",
   "nbconvert_exporter": "python",
   "pygments_lexer": "ipython3",
   "version": "3.8.11"
  }
 },
 "nbformat": 4,
 "nbformat_minor": 5
}
