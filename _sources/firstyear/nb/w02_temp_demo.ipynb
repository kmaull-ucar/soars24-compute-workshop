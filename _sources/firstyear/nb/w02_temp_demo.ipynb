{
 "cells": [
  {
   "cell_type": "markdown",
   "id": "d1eac4bc-aeb4-4d2f-9298-29ea1aed364f",
   "metadata": {},
   "source": [
    "Our `temperature` class will implement two attributes:\n",
    "\n",
    "* `tempC` which contains the temperature in C\n",
    "* `tempF` which contains the temperature in F\n",
    "\n",
    "We will implement the standard `__init__(self, ...)` constructor and two corresponding methods (class functions that will allow the C or F temperature to be set (`setC(self, temp)` and `setF(self, temp)`.\n",
    "\n",
    "To get data out, we will implement `getC(self)` and `getF(self)` which simply return the C and F temperatures correspondingly."
   ]
  },
  {
   "cell_type": "code",
   "execution_count": 1,
   "id": "7eb86212-d5b6-43fc-8c9e-7d276995cf38",
   "metadata": {},
   "outputs": [],
   "source": [
    "class Temperature:\n",
    "    tempC = None\n",
    "    tempF = None\n",
    "    \n",
    "    def __init__(self, temp, scale):\n",
    "        if scale.lower() == \"c\":\n",
    "            self.tempC = temp\n",
    "            self.tempF = self.__toF(temp) \n",
    "            # consider: do we want to check for out of bounds\n",
    "        elif scale.lower() == \"f\":\n",
    "            self.tempF = temp\n",
    "            self.tempC = self.__toC(temp)\n",
    "        else:\n",
    "            raise ValueError(\"Scale must be 'F' or 'C' for Farenheit or Celsius\") \n",
    "    \n",
    "    def __toF(self, temp): # private \"internal-only\" conversion\n",
    "        return (9/5) * temp + 32\n",
    "    \n",
    "    def __toC(self, temp):\n",
    "        return (temp - 32)*5/9 \n",
    "    \n",
    "    def setC(self, temp): # set temp in C\n",
    "        self.tempC = temp\n",
    "        self.tempF = self.__toF(temp)\n",
    "\n",
    "    def setF(self, temp): # set temp in F\n",
    "        self.tempF = temp\n",
    "        self.tempC = self.__toC(temp)\n",
    "        \n",
    "    def getC(self):\n",
    "        return self.tempC\n",
    "    \n",
    "    def getF(self):\n",
    "        return self.tempF"
   ]
  },
  {
   "cell_type": "code",
   "execution_count": 2,
   "id": "1385abad-1ae0-4505-bb93-1d1721be9da3",
   "metadata": {},
   "outputs": [],
   "source": [
    "t = Temperature(-100, \"F\")"
   ]
  },
  {
   "cell_type": "code",
   "execution_count": 3,
   "id": "0b1aec9f-4120-4759-b573-93a59b445d7f",
   "metadata": {},
   "outputs": [
    {
     "data": {
      "text/plain": [
       "-73.33333333333333"
      ]
     },
     "execution_count": 3,
     "metadata": {},
     "output_type": "execute_result"
    }
   ],
   "source": [
    "t.getC()"
   ]
  },
  {
   "cell_type": "code",
   "execution_count": 4,
   "id": "bc79f69b-9e76-48a1-a493-0dcee884b251",
   "metadata": {},
   "outputs": [],
   "source": [
    "t.setC(100)"
   ]
  },
  {
   "cell_type": "code",
   "execution_count": 5,
   "id": "774b6fdc-30ff-44d7-868d-1ebfb444833b",
   "metadata": {},
   "outputs": [
    {
     "data": {
      "text/plain": [
       "100"
      ]
     },
     "execution_count": 5,
     "metadata": {},
     "output_type": "execute_result"
    }
   ],
   "source": [
    "t.getC()"
   ]
  },
  {
   "cell_type": "code",
   "execution_count": 6,
   "id": "2ba44bda-21e3-438c-9312-a294836e7d0c",
   "metadata": {},
   "outputs": [
    {
     "data": {
      "text/plain": [
       "212.0"
      ]
     },
     "execution_count": 6,
     "metadata": {},
     "output_type": "execute_result"
    }
   ],
   "source": [
    "t.getF()"
   ]
  },
  {
   "cell_type": "code",
   "execution_count": 7,
   "id": "d999cea6-56ae-4265-bc05-545917cdb439",
   "metadata": {},
   "outputs": [],
   "source": [
    "t.setF(70)"
   ]
  },
  {
   "cell_type": "code",
   "execution_count": 8,
   "id": "0825a360-d696-47a5-a270-ecd556f7421a",
   "metadata": {},
   "outputs": [
    {
     "data": {
      "text/plain": [
       "70"
      ]
     },
     "execution_count": 8,
     "metadata": {},
     "output_type": "execute_result"
    }
   ],
   "source": [
    "t.getF()"
   ]
  },
  {
   "cell_type": "code",
   "execution_count": 9,
   "id": "75f7f4af-c381-4835-ae23-9a70eeac68ea",
   "metadata": {},
   "outputs": [
    {
     "data": {
      "text/plain": [
       "21.11111111111111"
      ]
     },
     "execution_count": 9,
     "metadata": {},
     "output_type": "execute_result"
    }
   ],
   "source": [
    "t.getC()"
   ]
  },
  {
   "cell_type": "markdown",
   "id": "b158f521-867c-4e48-ad72-9b5830929aec",
   "metadata": {},
   "source": [
    "One might ask why would this be valuable?  Why wouldn't we just implement the conversion functions and go with that?  This seems like an overkill.\n",
    "\n",
    "Wait a minute before leaving this to rest.\n",
    "\n",
    "Have you ever wanted to add or subtract to temperatures which were in different scales?\n",
    "\n",
    "If you only implemented the functions to convert these, you'd have to know the units and do the conversion accordingly, like so:"
   ]
  },
  {
   "cell_type": "code",
   "execution_count": 10,
   "id": "0d0a1ebf-7b89-4d7a-9c70-5eb91ad4111e",
   "metadata": {},
   "outputs": [
    {
     "data": {
      "text/plain": [
       "102.0"
      ]
     },
     "execution_count": 10,
     "metadata": {},
     "output_type": "execute_result"
    }
   ],
   "source": [
    "f_temp = 70 \n",
    "c_temp = 0\n",
    "\n",
    "def convert_to_C(f):\n",
    "    return (f - 32)*5/9 \n",
    "\n",
    "def convert_to_F(c):\n",
    "    return (9/5) * c + 32\n",
    "\n",
    "f_temp + convert_to_F(c_temp)"
   ]
  },
  {
   "cell_type": "markdown",
   "id": "d5f8c64c-bc3e-4e6b-86e2-fdc551fc0b3e",
   "metadata": {},
   "source": [
    "But what if we used objects?\n",
    "\n",
    "In Python, if we implement a class, there is a special function named `__add()` that allows\n",
    "us to \"override\" or \"overload\" the behavior of the `+` operator.  It is beyond the scope of\n",
    "this notebook to go into the details of \"overloading\", but this resource will get you started:\n",
    "\n",
    "* [Operator and Function Overloading in Custom Python Classes (realpython.com)](https://realpython.com/operator-function-overloading/)"
   ]
  },
  {
   "cell_type": "code",
   "execution_count": 11,
   "id": "f8926edb-4fe3-4b5b-8eb9-549951d2f45d",
   "metadata": {},
   "outputs": [],
   "source": [
    "class Temperature:\n",
    "    tempC = None\n",
    "    tempF = None\n",
    "    \n",
    "    def __init__(self, temp, scale):\n",
    "        if scale.lower() == \"c\":\n",
    "            self.tempC = temp\n",
    "            self.tempF = self.__toF(temp) \n",
    "            # consider: do we want to check for out of bounds\n",
    "        elif scale.lower() == \"f\":\n",
    "            self.tempF = temp\n",
    "            self.tempC = self.__toC(temp)\n",
    "        else:\n",
    "            raise ValueError(\"Scale must be 'F' or 'C' for Farenheit or Celsius\") \n",
    "    \n",
    "    def __add__(self, tObj):        \n",
    "        if self.tempC == 0 or tObj.getC() == 0:\n",
    "            return Temperature(self.tempF + tObj.getF(), \"F\")\n",
    "        elif self.tempF == 0 or tObj.getF() == 0:\n",
    "            return Temperature(self.tempC + tObj.getC(), \"C\")\n",
    "    \n",
    "    def __toF(self, temp): # private \"internal-only\" conversion\n",
    "        return (9/5) * temp + 32\n",
    "    \n",
    "    def __toC(self, temp):\n",
    "        return (temp - 32)*5/9 \n",
    "    \n",
    "    def setC(self, temp): # set temp in C\n",
    "        self.tempC = temp\n",
    "        self.tempF = self.__toF(temp)\n",
    "\n",
    "    def setF(self, temp): # set temp in F\n",
    "        self.tempF = temp\n",
    "        self.tempC = self.__toC(temp)\n",
    "        \n",
    "    def getC(self):\n",
    "        return self.tempC\n",
    "    \n",
    "    def getF(self):\n",
    "        return self.tempF"
   ]
  },
  {
   "cell_type": "markdown",
   "id": "51169990-5da3-491d-91d9-8035a11f0c3c",
   "metadata": {},
   "source": [
    "You might notice the implemenation of `__add__` has a little going on.\n",
    "\n",
    "Namely, when we add two 0 temperatures in each scale, if we stay in that scale, we end up with the other scale not appropriately reflecting the addition.\n",
    "\n",
    "**WARNING:** This simple implementation is incomplete and requires some more thought, since the `scale` you want to add, may make a difference.  For example, I may want to add two 0 degree F and get 0, or I may want to add them and get the proper C ... there are _design decisions_ that are required here.  Again, it is beyond the scope of this notebook, but such decisions are very important as they will provide the _expected_ behavior given the context of your code.\n",
    "\n",
    "You will notice **very unexpected behavior when doing**:\n",
    "```python\n",
    "t1 = Temperature(0, \"F\")\n",
    "t2 = Temperature(32, \"F\")\n",
    "\n",
    "t3 = Temperature(t1.getC()+t2.getC(), \"C\")\n",
    "t3.getF() # ==> 0???\n",
    "```\n",
    "\n",
    "Perhaps we need to think a little about whether we want to add temperatures at all or to store the initializer reference units and use that to make the addition in the initial units or a _target_ unit.\n",
    "\n",
    "There may be other possibilities as well ..."
   ]
  },
  {
   "cell_type": "code",
   "execution_count": 12,
   "id": "346accb6-937c-47ca-b015-55fe6862e6de",
   "metadata": {},
   "outputs": [],
   "source": [
    "t1 = Temperature(32, \"F\")\n",
    "t2 = Temperature(32, \"F\")"
   ]
  },
  {
   "cell_type": "code",
   "execution_count": 13,
   "id": "acf73cbe-4772-45f8-87b2-885494811c1f",
   "metadata": {},
   "outputs": [
    {
     "data": {
      "text/plain": [
       "32.0"
      ]
     },
     "execution_count": 13,
     "metadata": {},
     "output_type": "execute_result"
    }
   ],
   "source": [
    "Temperature(t1.getC()+t2.getC(), \"C\").getF()"
   ]
  },
  {
   "cell_type": "code",
   "execution_count": 14,
   "id": "98617401-e7c3-400d-abf5-6d04d5dff73d",
   "metadata": {},
   "outputs": [],
   "source": [
    "t3 = t1+t2"
   ]
  },
  {
   "cell_type": "code",
   "execution_count": 15,
   "id": "81d72ae1-cf86-423f-b331-89e4206d23f4",
   "metadata": {},
   "outputs": [
    {
     "data": {
      "text/plain": [
       "32"
      ]
     },
     "execution_count": 15,
     "metadata": {},
     "output_type": "execute_result"
    }
   ],
   "source": [
    "t1.getF()"
   ]
  },
  {
   "cell_type": "code",
   "execution_count": 16,
   "id": "3bcb46ae-86ba-4ad0-88a9-b6a6a327c2e8",
   "metadata": {},
   "outputs": [
    {
     "data": {
      "text/plain": [
       "32"
      ]
     },
     "execution_count": 16,
     "metadata": {},
     "output_type": "execute_result"
    }
   ],
   "source": [
    "t2.getF()"
   ]
  },
  {
   "cell_type": "code",
   "execution_count": 17,
   "id": "0a4731cd-4330-472b-aad9-7239c2405eb9",
   "metadata": {},
   "outputs": [
    {
     "data": {
      "text/plain": [
       "64"
      ]
     },
     "execution_count": 17,
     "metadata": {},
     "output_type": "execute_result"
    }
   ],
   "source": [
    "t3.getF()"
   ]
  }
 ],
 "metadata": {
  "kernelspec": {
   "display_name": "Python 3 (ipykernel)",
   "language": "python",
   "name": "python3"
  },
  "language_info": {
   "codemirror_mode": {
    "name": "ipython",
    "version": 3
   },
   "file_extension": ".py",
   "mimetype": "text/x-python",
   "name": "python",
   "nbconvert_exporter": "python",
   "pygments_lexer": "ipython3",
   "version": "3.8.11"
  }
 },
 "nbformat": 4,
 "nbformat_minor": 5
}
