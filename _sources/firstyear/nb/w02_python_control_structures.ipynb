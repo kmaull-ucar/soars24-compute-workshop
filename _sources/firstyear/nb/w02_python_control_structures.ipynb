{
 "cells": [
  {
   "cell_type": "markdown",
   "id": "1c16099b-7d1b-4563-98dd-72786888d996",
   "metadata": {},
   "source": [
    "# Python Control Structures \n",
    "\n",
    "Python has very basic control structures that form the basis\n",
    "of any program.\n",
    "\n",
    "As a general rule \"computation\" is about managing state through\n",
    "a variety of tools, at the center of which are control structures.\n",
    "\n",
    "The _logic_ of a program comes from such control structures.\n",
    "\n",
    "There are three control structures you will use repeatedly in Python:\n",
    "\n",
    "* `if .. else`\n",
    "* `for .. in`\n",
    "* `while`\n"
   ]
  },
  {
   "cell_type": "markdown",
   "id": "254c768d-7e59-4008-89f4-8dc15d51a7e4",
   "metadata": {},
   "source": [
    "## Logic\n",
    "\n",
    "### `if .. else`\n",
    "\n",
    "This control structure is exactly as you expect it, which expresses logic of truth or falsity.\n",
    "\n",
    "Let's see:"
   ]
  },
  {
   "cell_type": "code",
   "execution_count": 1,
   "id": "61f8aea2-6c00-4f16-b755-5db91de3e45f",
   "metadata": {},
   "outputs": [
    {
     "name": "stdout",
     "output_type": "stream",
     "text": [
      "this is true\n"
     ]
    }
   ],
   "source": [
    "if True:\n",
    "    print(\"this is true\")"
   ]
  },
  {
   "cell_type": "code",
   "execution_count": 2,
   "id": "5d43da13-a1de-4a2c-90b6-280d30c9fec5",
   "metadata": {},
   "outputs": [],
   "source": [
    "if False:\n",
    "    print(\"this is never executed\")"
   ]
  },
  {
   "cell_type": "code",
   "execution_count": 3,
   "id": "78fae007-4fbd-4781-b916-0621aaf7c2c7",
   "metadata": {},
   "outputs": [
    {
     "name": "stdout",
     "output_type": "stream",
     "text": [
      "This is not true\n"
     ]
    }
   ],
   "source": [
    "if not True:\n",
    "    print(\"This is true\")\n",
    "else:\n",
    "    print(\"This is not true\")"
   ]
  },
  {
   "cell_type": "code",
   "execution_count": 4,
   "id": "a30e0428-7d04-4414-851d-1008c33ecc43",
   "metadata": {},
   "outputs": [
    {
     "data": {
      "text/plain": [
       "False"
      ]
     },
     "execution_count": 4,
     "metadata": {},
     "output_type": "execute_result"
    }
   ],
   "source": [
    "1 > 2"
   ]
  },
  {
   "cell_type": "code",
   "execution_count": 5,
   "id": "47296eb9-9927-47c8-8321-320a69fd0ca8",
   "metadata": {},
   "outputs": [
    {
     "data": {
      "text/plain": [
       "True"
      ]
     },
     "execution_count": 5,
     "metadata": {},
     "output_type": "execute_result"
    }
   ],
   "source": [
    "2 == 2"
   ]
  },
  {
   "cell_type": "code",
   "execution_count": 6,
   "id": "12f59442-9946-4d55-8339-6587c6760380",
   "metadata": {},
   "outputs": [
    {
     "data": {
      "text/plain": [
       "False"
      ]
     },
     "execution_count": 6,
     "metadata": {},
     "output_type": "execute_result"
    }
   ],
   "source": [
    "2 < 1"
   ]
  },
  {
   "cell_type": "code",
   "execution_count": 7,
   "id": "134d9d91-5b2a-4378-b162-69182d7e5623",
   "metadata": {},
   "outputs": [
    {
     "name": "stdout",
     "output_type": "stream",
     "text": [
      "oh good, 2 is still less than one in this universe\n"
     ]
    }
   ],
   "source": [
    "if 2 < 1:\n",
    "    print(\"there is some disturbance in the universe\")\n",
    "else:\n",
    "    print(\"oh good, 2 is still less than one in this universe\")"
   ]
  },
  {
   "cell_type": "markdown",
   "id": "083426cf-e47f-42af-a6c2-093b3f19a446",
   "metadata": {},
   "source": [
    "The complexity of these statements can be large and nesting can\n",
    "be an important part of your program, but beware -- too much \n",
    "complexity can be a bad thing.\n",
    "\n",
    "You can learn much more about this from the official documentation:\n",
    "\n",
    "* more on [if statements](https://docs.python.org/3/tutorial/controlflow.html#if-statements) on python.org"
   ]
  },
  {
   "cell_type": "markdown",
   "id": "16dddd4f-123d-4448-9eac-e5dabe90840d",
   "metadata": {
    "tags": []
   },
   "source": [
    "## Loops\n",
    "Fundamental to nearly any algorithm is the concept of looping or repeated execution of some code until some stopping condition or important event (even and error is important) occurs.  "
   ]
  },
  {
   "cell_type": "markdown",
   "id": "9fe27fd5-e5c6-490c-abec-9edb181ebb70",
   "metadata": {
    "tags": []
   },
   "source": [
    "### `for .. in`\n",
    "\n",
    "Python makes looping very accessible and intuitive with the `for ... in:` construct. \n",
    "\n",
    "\n",
    "While we often loop through _lists_, it is more flexible for you to think about looping through _sequences_\n",
    "which are not unlike _lists_, but instead provides us a more flexible abstraction such that a _sequence_\n",
    "could, but doesn't necessarily have to be a list.\n",
    "\n",
    "Consider the code below where we loop through a single list of numbers:"
   ]
  },
  {
   "cell_type": "code",
   "execution_count": 8,
   "id": "20c6a097-2db0-4b65-b763-3733176151c2",
   "metadata": {},
   "outputs": [
    {
     "name": "stdout",
     "output_type": "stream",
     "text": [
      "1\n",
      "2\n",
      "3\n",
      "4\n",
      "5\n"
     ]
    }
   ],
   "source": [
    "list_of_numbers = [1,2,3,4,5]\n",
    "\n",
    "for n in list_of_numbers:\n",
    "    print(n)"
   ]
  },
  {
   "cell_type": "markdown",
   "id": "2dde9bc2-d253-48d5-b9ad-3734741ff6fc",
   "metadata": {},
   "source": [
    "Or how we might loop through a string (which is a sequence of characters):"
   ]
  },
  {
   "cell_type": "code",
   "execution_count": 9,
   "id": "96dda4ca-9bc0-45ac-8682-70dabde40db1",
   "metadata": {},
   "outputs": [
    {
     "name": "stdout",
     "output_type": "stream",
     "text": [
      "1\n",
      "2\n",
      "3\n",
      "4\n",
      "5\n"
     ]
    }
   ],
   "source": [
    "sequence_of_characters = \"12345\"\n",
    "\n",
    "for c in sequence_of_characters:\n",
    "    print(c)"
   ]
  },
  {
   "cell_type": "markdown",
   "id": "8414247e-e08f-4660-83b2-f8ef6af5b563",
   "metadata": {},
   "source": [
    "Of course, we can do more complex things, but let's consider using the [`split()`]() function of strings to loop over the output list (sequence):"
   ]
  },
  {
   "cell_type": "code",
   "execution_count": 10,
   "id": "46f96783-6603-4159-9ad4-066389412079",
   "metadata": {},
   "outputs": [],
   "source": [
    "a_sentence = \"this is a sentence\""
   ]
  },
  {
   "cell_type": "code",
   "execution_count": 11,
   "id": "e502ffaf-a8eb-44c3-9795-083f728c12dd",
   "metadata": {},
   "outputs": [
    {
     "data": {
      "text/plain": [
       "['this', 'is', 'a', 'sentence']"
      ]
     },
     "execution_count": 11,
     "metadata": {},
     "output_type": "execute_result"
    }
   ],
   "source": [
    "a_sentence.split() # return the list of strings in the sentence split along the space"
   ]
  },
  {
   "cell_type": "code",
   "execution_count": 12,
   "id": "069982dd-b65e-480d-82c5-51a8314ae800",
   "metadata": {},
   "outputs": [
    {
     "name": "stdout",
     "output_type": "stream",
     "text": [
      "this\n",
      "is\n",
      "a\n",
      "sentence\n"
     ]
    }
   ],
   "source": [
    "for w in a_sentence.split():\n",
    "    print(w)"
   ]
  },
  {
   "cell_type": "markdown",
   "id": "6023d2e9-e6e2-416a-8036-00b77ace3e79",
   "metadata": {},
   "source": [
    "There we have it ... it is important to understand this control structure. It is a fundamental Pythonic construct."
   ]
  },
  {
   "cell_type": "markdown",
   "id": "33ebc8ac-3636-4c3e-9cd4-a56a468f07cf",
   "metadata": {},
   "source": [
    "### `while`\n",
    "\n",
    "The `for .. in` construct will know it the stopping condition because the sequence has some finite size.\n",
    "\n",
    "On the other hand, the `while` loop must either be terminated directly with `break` or some stopping condition within the loop.  Let's see how this works:"
   ]
  },
  {
   "cell_type": "code",
   "execution_count": 13,
   "id": "e166ec4d-01c0-41f1-b010-825ea05d5f83",
   "metadata": {},
   "outputs": [],
   "source": [
    "while True:\n",
    "    break # end immediately"
   ]
  },
  {
   "cell_type": "code",
   "execution_count": 14,
   "id": "1802edf3-0e81-4ada-9f6a-31011460bfb1",
   "metadata": {},
   "outputs": [
    {
     "name": "stdout",
     "output_type": "stream",
     "text": [
      "0\n",
      "1\n",
      "2\n",
      "3\n",
      "4\n",
      "5\n",
      "6\n",
      "7\n",
      "8\n",
      "9\n"
     ]
    }
   ],
   "source": [
    "i = 0\n",
    "while i < 10: # the stopping condition is in the while condition\n",
    "    print(i)\n",
    "    i = i + 1"
   ]
  },
  {
   "cell_type": "code",
   "execution_count": 15,
   "id": "98722336-1954-4849-8a8f-8f4326d079f8",
   "metadata": {},
   "outputs": [
    {
     "name": "stdout",
     "output_type": "stream",
     "text": [
      "0\n",
      "1\n",
      "2\n",
      "3\n",
      "4\n",
      "5\n",
      "6\n",
      "7\n",
      "8\n",
      "9\n"
     ]
    }
   ],
   "source": [
    "i = 0\n",
    "while True: # the stopping condition is in the body of the while code\n",
    "    print(i)\n",
    "    i = i + 1\n",
    "    \n",
    "    if i > 9:\n",
    "        break"
   ]
  },
  {
   "cell_type": "markdown",
   "id": "d42a13f0-2bf7-4a05-9bf2-05ff08d9553d",
   "metadata": {},
   "source": [
    "You may find limited use of `while` in Python, especially since sequences are a Python \n",
    "data idiom that lends itself (not by accident) to `for .. in`, but knowing where \n",
    "`while` can be useful is important to have in your programming toolkit."
   ]
  },
  {
   "cell_type": "markdown",
   "id": "917a929e-0270-459c-a915-13807e5814e1",
   "metadata": {},
   "source": [
    "## Other control flow\n",
    "\n",
    "### `match` (Python 3.10+)\n",
    "\n",
    "In Python 3.10 the `match` construct was added to bring a common idiom to the language similar\n",
    "to the `case` statement found in languages like Java.\n",
    "\n",
    "Learn more about it [here](https://docs.python.org/3/tutorial/controlflow.html#match-statements).\n",
    "\n",
    "You may be careful to use this since it is relatively new and will require a newer version of Python to execute."
   ]
  },
  {
   "cell_type": "code",
   "execution_count": 16,
   "id": "d5caa327-0560-4019-a29f-14395013642c",
   "metadata": {},
   "outputs": [],
   "source": [
    "def is_ten_or_eleven(value):\n",
    "    match value:\n",
    "        case 10:\n",
    "            print(\"The number is 10\")\n",
    "        case 11:\n",
    "            print(\"The number is 11\")\n",
    "        case _: # the base case\n",
    "            print(\"The number is not 10 or 11\")"
   ]
  },
  {
   "cell_type": "code",
   "execution_count": 17,
   "id": "d48b0af4-54da-4112-804a-5ab256455746",
   "metadata": {},
   "outputs": [
    {
     "name": "stdout",
     "output_type": "stream",
     "text": [
      "The number is 10\n"
     ]
    }
   ],
   "source": [
    "is_ten_or_eleven(10)"
   ]
  },
  {
   "cell_type": "code",
   "execution_count": 18,
   "id": "98b06a13-0393-486e-88fa-2a46ce33f586",
   "metadata": {},
   "outputs": [
    {
     "name": "stdout",
     "output_type": "stream",
     "text": [
      "The number is 11\n"
     ]
    }
   ],
   "source": [
    "is_ten_or_eleven(11)"
   ]
  },
  {
   "cell_type": "code",
   "execution_count": 19,
   "id": "6651cdc2-b907-4759-909b-78baeb060c97",
   "metadata": {},
   "outputs": [
    {
     "name": "stdout",
     "output_type": "stream",
     "text": [
      "The number is not 10 or 11\n"
     ]
    }
   ],
   "source": [
    "is_ten_or_eleven(12)"
   ]
  }
 ],
 "metadata": {
  "kernelspec": {
   "display_name": "Python 3 (ipykernel)",
   "language": "python",
   "name": "python3"
  },
  "language_info": {
   "codemirror_mode": {
    "name": "ipython",
    "version": 3
   },
   "file_extension": ".py",
   "mimetype": "text/x-python",
   "name": "python",
   "nbconvert_exporter": "python",
   "pygments_lexer": "ipython3",
   "version": "3.10.9"
  }
 },
 "nbformat": 4,
 "nbformat_minor": 5
}
