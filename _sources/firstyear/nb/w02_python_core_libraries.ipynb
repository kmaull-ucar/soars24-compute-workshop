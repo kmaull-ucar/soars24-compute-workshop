{
 "cells": [
  {
   "cell_type": "markdown",
   "id": "399a33d3-7eb6-47d9-a69c-b8ca17529633",
   "metadata": {
    "tags": []
   },
   "source": [
    "# Core Libraries and Modules in Python"
   ]
  },
  {
   "cell_type": "markdown",
   "id": "6c5a762b-e8c7-4fc8-894a-6bf1f17b07ec",
   "metadata": {},
   "source": [
    "## Python Standard Library\n",
    "\n",
    "Nearly every language has what's called a \"standard library\" of modules and functions that are ready to go out of the box without any additional installation.  You may not know it, but if you install Python out of the box with nothing else, these are the core modules that you can depend on being in that installation.  Getting to know the standard library is critical to navigating through the language as your understanding matures:\n",
    "\n",
    "* The [Python Standard Library](https://docs.python.org/3/library/index.html)\n",
    "\n",
    "Get to know what is there ... it will make you a more knowledgeable about what Python has to offer.  It's knowledge could save you a lot of time!!!"
   ]
  },
  {
   "cell_type": "markdown",
   "id": "572a11ee-707d-469a-8334-2276a91becfe",
   "metadata": {},
   "source": [
    "### Python Runtime Services\n",
    "* `sys` — System-specific parameters and functions\n",
    "* `inspect` — Inspect live objects"
   ]
  },
  {
   "cell_type": "markdown",
   "id": "1bfdcb90-8c52-4fb1-b557-47f2a4b3d1c2",
   "metadata": {},
   "source": [
    "### Debugging and Profiling\n",
    "* `timeit` — Measure execution time of small code snippets"
   ]
  },
  {
   "cell_type": "markdown",
   "id": "8bf3c33d-76e3-40c4-bcc5-e98442aab5b1",
   "metadata": {},
   "source": [
    "### Generic Operating System Services\n",
    "* `os` — Miscellaneous operating system interfaces\n",
    "* `time` — Time access and conversions"
   ]
  },
  {
   "cell_type": "markdown",
   "id": "e013dbd9-1096-47f6-b7d6-b81416361867",
   "metadata": {},
   "source": [
    "### Internet Data Handling\n",
    "* `json` — JSON encoder and decoder\n",
    "* `base64` — Base16, Base32, Base64, Base85 Data Encodings"
   ]
  },
  {
   "cell_type": "markdown",
   "id": "b8732407-3043-47d0-8b6f-4208637cb382",
   "metadata": {},
   "source": [
    "### Data Types\n",
    "Of the modules dealing with data types, these three are immediately useful and you should familiarize yourself with them immediately -- they are time savers.\n",
    "\n",
    "* `datetime`  [&#8631;](https://docs.python.org/3/library/datetime.html)  — Basic date and time types\n",
    "* `collections`  [&#8631;](https://docs.python.org/3/library/collections.html) — Container datatypes\n",
    "* `pprint`  [&#8631;](https://docs.python.org/3/library/pprint.html) — Data pretty printer\n",
    "\n",
    "See some example code [below](#datetime)."
   ]
  },
  {
   "cell_type": "markdown",
   "id": "0eeb8ae9-928e-4a3e-bbbd-45316e2aa5ab",
   "metadata": {},
   "source": [
    "#### `datetime`\n",
    "\n",
    "First up is `datetime` which is designed to help you with all things ... date and ... time."
   ]
  },
  {
   "cell_type": "code",
   "execution_count": 1,
   "id": "7467953f-14e0-4a1d-97bc-858daaf767b7",
   "metadata": {},
   "outputs": [],
   "source": [
    "import datetime"
   ]
  },
  {
   "cell_type": "code",
   "execution_count": 2,
   "id": "2e4ae2a2-4070-4def-b5cf-d10b8605df93",
   "metadata": {},
   "outputs": [
    {
     "data": {
      "text/plain": [
       "datetime.datetime(2024, 4, 19, 14, 47, 0, 995335)"
      ]
     },
     "execution_count": 2,
     "metadata": {},
     "output_type": "execute_result"
    }
   ],
   "source": [
    "datetime.datetime.now() # what time is it right now on this computer"
   ]
  },
  {
   "cell_type": "code",
   "execution_count": 4,
   "id": "910dedcf-045d-4fc1-a3bf-2aa6dfd6f304",
   "metadata": {},
   "outputs": [
    {
     "data": {
      "text/plain": [
       "2024"
      ]
     },
     "execution_count": 4,
     "metadata": {},
     "output_type": "execute_result"
    }
   ],
   "source": [
    "datetime.datetime.now().year # what year is it?"
   ]
  },
  {
   "cell_type": "code",
   "execution_count": 46,
   "id": "ce8c4aae-7c7b-4712-b9b8-435fc3300f7f",
   "metadata": {},
   "outputs": [
    {
     "data": {
      "text/plain": [
       "5"
      ]
     },
     "execution_count": 46,
     "metadata": {},
     "output_type": "execute_result"
    }
   ],
   "source": [
    "datetime.datetime.now().month"
   ]
  },
  {
   "cell_type": "code",
   "execution_count": 47,
   "id": "1b69728e-aa22-4d72-a001-12002f43c211",
   "metadata": {},
   "outputs": [
    {
     "data": {
      "text/plain": [
       "17"
      ]
     },
     "execution_count": 47,
     "metadata": {},
     "output_type": "execute_result"
    }
   ],
   "source": [
    "datetime.datetime.now().hour"
   ]
  },
  {
   "cell_type": "code",
   "execution_count": 56,
   "id": "96216500-b427-4d56-8df0-2a50a273bfd2",
   "metadata": {},
   "outputs": [
    {
     "data": {
      "text/plain": [
       "'2023-05-11/17:33:17'"
      ]
     },
     "execution_count": 56,
     "metadata": {},
     "output_type": "execute_result"
    }
   ],
   "source": [
    "datetime.datetime.now().strftime(\"%Y-%m-%d/%H:%M:%S\") # format the date how I want it -- useful for SOOO many things"
   ]
  },
  {
   "cell_type": "markdown",
   "id": "ec058928-91ac-4958-a275-37e9d86bf66a",
   "metadata": {},
   "source": [
    "Knowledge of this module will be helpful if you use Pandas and any time/date related data!"
   ]
  },
  {
   "cell_type": "markdown",
   "id": "90105d22-1a6f-4b2d-8522-19b7029713b3",
   "metadata": {},
   "source": [
    "#### `collections`\n",
    "\n",
    "\n",
    "Collections are an important module to know about ... here's why:"
   ]
  },
  {
   "cell_type": "code",
   "execution_count": 5,
   "id": "13baa123-c3cc-4c85-8465-65d0be64d5fb",
   "metadata": {},
   "outputs": [],
   "source": [
    "import random\n",
    "\n",
    "# generate a list of random numbers\n",
    "rand_int_list = [random.randint(0,10) for i in range(0,100)]"
   ]
  },
  {
   "cell_type": "code",
   "execution_count": 7,
   "id": "78fd4d2a-afa9-424e-8c93-7d77043a055a",
   "metadata": {},
   "outputs": [
    {
     "data": {
      "text/plain": [
       "[5,\n",
       " 2,\n",
       " 4,\n",
       " 1,\n",
       " 5,\n",
       " 0,\n",
       " 6,\n",
       " 8,\n",
       " 9,\n",
       " 8,\n",
       " 8,\n",
       " 0,\n",
       " 6,\n",
       " 4,\n",
       " 2,\n",
       " 8,\n",
       " 5,\n",
       " 7,\n",
       " 6,\n",
       " 10,\n",
       " 3,\n",
       " 6,\n",
       " 8,\n",
       " 0,\n",
       " 2,\n",
       " 8,\n",
       " 10,\n",
       " 2,\n",
       " 6,\n",
       " 5,\n",
       " 9,\n",
       " 5,\n",
       " 3,\n",
       " 1,\n",
       " 4,\n",
       " 0,\n",
       " 3,\n",
       " 1,\n",
       " 7,\n",
       " 2,\n",
       " 7,\n",
       " 8,\n",
       " 5,\n",
       " 4,\n",
       " 4,\n",
       " 1,\n",
       " 8,\n",
       " 2,\n",
       " 0,\n",
       " 9,\n",
       " 10,\n",
       " 0,\n",
       " 10,\n",
       " 4,\n",
       " 1,\n",
       " 8,\n",
       " 7,\n",
       " 4,\n",
       " 10,\n",
       " 4,\n",
       " 6,\n",
       " 2,\n",
       " 10,\n",
       " 9,\n",
       " 6,\n",
       " 0,\n",
       " 2,\n",
       " 3,\n",
       " 10,\n",
       " 1,\n",
       " 6,\n",
       " 10,\n",
       " 1,\n",
       " 9,\n",
       " 2,\n",
       " 4,\n",
       " 10,\n",
       " 4,\n",
       " 4,\n",
       " 6,\n",
       " 6,\n",
       " 3,\n",
       " 1,\n",
       " 9,\n",
       " 0,\n",
       " 0,\n",
       " 5,\n",
       " 6,\n",
       " 5,\n",
       " 10,\n",
       " 2,\n",
       " 1,\n",
       " 0,\n",
       " 2,\n",
       " 1,\n",
       " 6,\n",
       " 2,\n",
       " 9,\n",
       " 7,\n",
       " 7]"
      ]
     },
     "execution_count": 7,
     "metadata": {},
     "output_type": "execute_result"
    }
   ],
   "source": [
    "rand_int_list"
   ]
  },
  {
   "cell_type": "markdown",
   "id": "cc445331-b079-4756-80be-24cf9ba17f86",
   "metadata": {},
   "source": [
    "Now ... how many 1's are in this list?\n",
    "\n",
    "We could do the counting any number of ways.  For example,"
   ]
  },
  {
   "cell_type": "code",
   "execution_count": 10,
   "id": "ed7bf551-fb0f-42e7-b3c3-e1f934387139",
   "metadata": {},
   "outputs": [
    {
     "name": "stdout",
     "output_type": "stream",
     "text": [
      "[i] There are 10 ones in the list.\n"
     ]
    }
   ],
   "source": [
    "count_of_ones = 0\n",
    "for n in rand_int_list:\n",
    "    if n == 1 :\n",
    "        count_of_ones += 1\n",
    "    \n",
    "print(f\"[i] There are {count_of_ones} ones in the list.\")"
   ]
  },
  {
   "cell_type": "markdown",
   "id": "1b4faa98-43f5-4a5c-95ea-148361f5edc2",
   "metadata": {},
   "source": [
    "What if we want all numbers ... this becomes cumbersome to code on your own.\n",
    "\n",
    "Collections to the rescue.\n",
    "\n",
    "Let's see how."
   ]
  },
  {
   "cell_type": "code",
   "execution_count": 60,
   "id": "11d55de9-d5f9-47da-b171-81003ce8d16a",
   "metadata": {},
   "outputs": [],
   "source": [
    "import collections"
   ]
  },
  {
   "cell_type": "code",
   "execution_count": 61,
   "id": "707aa3e9-8f7b-474f-b26c-159996046980",
   "metadata": {},
   "outputs": [
    {
     "data": {
      "text/plain": [
       "Counter({5: 11,\n",
       "         2: 9,\n",
       "         9: 7,\n",
       "         6: 10,\n",
       "         8: 13,\n",
       "         10: 10,\n",
       "         7: 10,\n",
       "         3: 9,\n",
       "         0: 6,\n",
       "         4: 11,\n",
       "         1: 4})"
      ]
     },
     "execution_count": 61,
     "metadata": {},
     "output_type": "execute_result"
    }
   ],
   "source": [
    "collections.Counter(rand_int_list)"
   ]
  },
  {
   "cell_type": "markdown",
   "id": "e23fe31f-ed27-4c29-9667-a5e77a01dc39",
   "metadata": {},
   "source": [
    "Huh?\n",
    "\n",
    "Well the collections module implements a \"Counter\" object, that given a sequence (list, or whatever), which does all the heavy lifting for you.\n",
    "\n",
    "It basically returns a dictionary where the _key_ is the number in the list, and the _value_ is the count.\n",
    "\n",
    "Looks like there are 4 ones, like we knew, by 13 eights.\n",
    "\n",
    "Let's store the collection and see whatever we can learn from it ..."
   ]
  },
  {
   "cell_type": "code",
   "execution_count": 62,
   "id": "30e8ee01-44e0-4bbb-9902-0e717195368e",
   "metadata": {},
   "outputs": [],
   "source": [
    "col_counter = collections.Counter(rand_int_list)"
   ]
  },
  {
   "cell_type": "code",
   "execution_count": 65,
   "id": "1b8a078a-e3f0-4dd1-b68e-ba2b498b2ae3",
   "metadata": {},
   "outputs": [
    {
     "data": {
      "text/plain": [
       "4"
      ]
     },
     "execution_count": 65,
     "metadata": {},
     "output_type": "execute_result"
    }
   ],
   "source": [
    "col_counter[1] # four ones"
   ]
  },
  {
   "cell_type": "code",
   "execution_count": 67,
   "id": "75c6a70b-12f1-4438-8b3b-7e4ab2accdb8",
   "metadata": {},
   "outputs": [
    {
     "data": {
      "text/plain": [
       "[(8, 13)]"
      ]
     },
     "execution_count": 67,
     "metadata": {},
     "output_type": "execute_result"
    }
   ],
   "source": [
    "col_counter.most_common(1) # 8 is the most frequent with a count of 13"
   ]
  },
  {
   "cell_type": "markdown",
   "id": "ae4e9230-3a74-4e5b-85e1-2fe2c931f854",
   "metadata": {},
   "source": [
    "There is so much more ... [go explore](https://docs.python.org/3/library/collections.html)!\n"
   ]
  },
  {
   "cell_type": "markdown",
   "id": "b24657da-ffb3-4156-8d82-35652795be93",
   "metadata": {},
   "source": [
    "### Numeric and Mathematical Modules\n",
    "* [`math`  &#8631;](https://docs.python.org/3/library/math.html#module-math) — Mathematical functions\n",
    "\n",
    "While  you may find libraries like numpy, sklearn and stats to have more robust functions, \n",
    "don't lose out on this [nice lightweight module](https://docs.python.org/3/library/math.html#module-math) that has lots of value for the simple stuff.\n",
    "\n",
    "See some [example code here]()."
   ]
  },
  {
   "cell_type": "code",
   "execution_count": 2,
   "id": "28da0310-0624-4fee-a347-511d8214943b",
   "metadata": {},
   "outputs": [],
   "source": [
    "import math"
   ]
  },
  {
   "cell_type": "code",
   "execution_count": 4,
   "id": "a3afa00c-2335-4109-b9fe-34bc11c24661",
   "metadata": {},
   "outputs": [
    {
     "data": {
      "text/plain": [
       "100.0"
      ]
     },
     "execution_count": 4,
     "metadata": {},
     "output_type": "execute_result"
    }
   ],
   "source": [
    "# absolute value\n",
    "math.fabs(-100)"
   ]
  },
  {
   "cell_type": "code",
   "execution_count": 9,
   "id": "8bb2d7a3-fa7c-4bef-9051-73fa3ba5634d",
   "metadata": {},
   "outputs": [
    {
     "data": {
      "text/plain": [
       "4.0"
      ]
     },
     "execution_count": 9,
     "metadata": {},
     "output_type": "execute_result"
    }
   ],
   "source": [
    "# sqrt\n",
    "math.sqrt(16)"
   ]
  },
  {
   "cell_type": "code",
   "execution_count": 10,
   "id": "6ec37dd2-df89-45f3-aa14-2d641a664621",
   "metadata": {},
   "outputs": [
    {
     "data": {
      "text/plain": [
       "3.4641016151377544"
      ]
     },
     "execution_count": 10,
     "metadata": {},
     "output_type": "execute_result"
    }
   ],
   "source": [
    "# sqrt\n",
    "math.sqrt(12)"
   ]
  },
  {
   "cell_type": "code",
   "execution_count": 11,
   "id": "5e99a5ed-17be-4810-ac43-bb2903abd6f0",
   "metadata": {},
   "outputs": [
    {
     "data": {
      "text/plain": [
       "3"
      ]
     },
     "execution_count": 11,
     "metadata": {},
     "output_type": "execute_result"
    }
   ],
   "source": [
    "# just the interger part (hence the \"i\")\n",
    "math.isqrt(12)"
   ]
  },
  {
   "cell_type": "markdown",
   "id": "db988d7d-4b89-45db-956c-9b67ec67b778",
   "metadata": {},
   "source": [
    "* [`random`  &#8631;](https://docs.python.org/3/library/random.html#module-random) — Generate pseudo-random numbers\n",
    "\n",
    "If you ever find yourself in need of some random numbers, [try this module](https://docs.python.org/3/library/random.html#module-random).  It hits the mark on most of the important random stuff you'd ever need in the general case."
   ]
  },
  {
   "cell_type": "code",
   "execution_count": 13,
   "id": "1d3db2b5-1019-4480-ab73-9ff0d6d19def",
   "metadata": {},
   "outputs": [],
   "source": [
    "import random"
   ]
  },
  {
   "cell_type": "code",
   "execution_count": 15,
   "id": "ca845d49-630c-4def-b442-8d58e2468b8c",
   "metadata": {},
   "outputs": [
    {
     "data": {
      "text/plain": [
       "33"
      ]
     },
     "execution_count": 15,
     "metadata": {},
     "output_type": "execute_result"
    }
   ],
   "source": [
    "random.randint(0, 100) # a random integer between 0 amd 100"
   ]
  },
  {
   "cell_type": "markdown",
   "id": "90d8441f-ff5e-4cb4-b973-6cd083640d2e",
   "metadata": {},
   "source": [
    "Let's generate a list of 100 random integers:"
   ]
  },
  {
   "cell_type": "code",
   "execution_count": 16,
   "id": "f7c3f4b6-f4f6-405e-b3cd-417dae329efa",
   "metadata": {},
   "outputs": [],
   "source": [
    "rand_int_list = [random.randint(0,100) for i in range(0, 100)]"
   ]
  },
  {
   "cell_type": "code",
   "execution_count": 18,
   "id": "95571c91-46df-4ecb-baf5-13164c683ec7",
   "metadata": {},
   "outputs": [
    {
     "data": {
      "text/plain": [
       "[82,\n",
       " 75,\n",
       " 9,\n",
       " 61,\n",
       " 88,\n",
       " 16,\n",
       " 31,\n",
       " 12,\n",
       " 68,\n",
       " 62,\n",
       " 95,\n",
       " 47,\n",
       " 92,\n",
       " 87,\n",
       " 83,\n",
       " 55,\n",
       " 68,\n",
       " 99,\n",
       " 92,\n",
       " 44,\n",
       " 91,\n",
       " 3,\n",
       " 38,\n",
       " 71,\n",
       " 84,\n",
       " 71,\n",
       " 42,\n",
       " 39,\n",
       " 0,\n",
       " 6,\n",
       " 64,\n",
       " 84,\n",
       " 25,\n",
       " 2,\n",
       " 73,\n",
       " 2,\n",
       " 77,\n",
       " 94,\n",
       " 46,\n",
       " 98,\n",
       " 64,\n",
       " 84,\n",
       " 87,\n",
       " 64,\n",
       " 9,\n",
       " 88,\n",
       " 39,\n",
       " 97,\n",
       " 76,\n",
       " 46,\n",
       " 30,\n",
       " 95,\n",
       " 20,\n",
       " 93,\n",
       " 98,\n",
       " 79,\n",
       " 95,\n",
       " 83,\n",
       " 37,\n",
       " 62,\n",
       " 21,\n",
       " 38,\n",
       " 21,\n",
       " 20,\n",
       " 40,\n",
       " 76,\n",
       " 21,\n",
       " 55,\n",
       " 52,\n",
       " 59,\n",
       " 31,\n",
       " 70,\n",
       " 29,\n",
       " 29,\n",
       " 17,\n",
       " 70,\n",
       " 36,\n",
       " 54,\n",
       " 98,\n",
       " 17,\n",
       " 83,\n",
       " 72,\n",
       " 45,\n",
       " 8,\n",
       " 67,\n",
       " 12,\n",
       " 44,\n",
       " 11,\n",
       " 20,\n",
       " 3,\n",
       " 29,\n",
       " 89,\n",
       " 92,\n",
       " 96,\n",
       " 31,\n",
       " 44,\n",
       " 99,\n",
       " 16,\n",
       " 71,\n",
       " 89]"
      ]
     },
     "execution_count": 18,
     "metadata": {},
     "output_type": "execute_result"
    }
   ],
   "source": [
    "rand_int_list"
   ]
  },
  {
   "cell_type": "markdown",
   "id": "35567774-a504-4eee-9893-323b3ac4a9ad",
   "metadata": {},
   "source": [
    "Maybe we'd like to shuffle that list a bit:"
   ]
  },
  {
   "cell_type": "code",
   "execution_count": 21,
   "id": "018da63c-9599-43a2-a1d4-300c40db851a",
   "metadata": {},
   "outputs": [
    {
     "data": {
      "text/plain": [
       "[77,\n",
       " 99,\n",
       " 68,\n",
       " 95,\n",
       " 44,\n",
       " 0,\n",
       " 75,\n",
       " 55,\n",
       " 52,\n",
       " 38,\n",
       " 6,\n",
       " 71,\n",
       " 21,\n",
       " 72,\n",
       " 20,\n",
       " 16,\n",
       " 59,\n",
       " 96,\n",
       " 20,\n",
       " 9,\n",
       " 54,\n",
       " 45,\n",
       " 46,\n",
       " 83,\n",
       " 8,\n",
       " 84,\n",
       " 88,\n",
       " 9,\n",
       " 95,\n",
       " 2,\n",
       " 98,\n",
       " 83,\n",
       " 3,\n",
       " 17,\n",
       " 99,\n",
       " 84,\n",
       " 62,\n",
       " 97,\n",
       " 37,\n",
       " 44,\n",
       " 87,\n",
       " 91,\n",
       " 39,\n",
       " 20,\n",
       " 76,\n",
       " 31,\n",
       " 61,\n",
       " 93,\n",
       " 29,\n",
       " 42,\n",
       " 95,\n",
       " 89,\n",
       " 67,\n",
       " 11,\n",
       " 89,\n",
       " 12,\n",
       " 98,\n",
       " 94,\n",
       " 44,\n",
       " 47,\n",
       " 79,\n",
       " 82,\n",
       " 21,\n",
       " 70,\n",
       " 64,\n",
       " 98,\n",
       " 83,\n",
       " 76,\n",
       " 30,\n",
       " 17,\n",
       " 64,\n",
       " 73,\n",
       " 40,\n",
       " 3,\n",
       " 92,\n",
       " 68,\n",
       " 39,\n",
       " 16,\n",
       " 70,\n",
       " 92,\n",
       " 21,\n",
       " 31,\n",
       " 38,\n",
       " 92,\n",
       " 87,\n",
       " 29,\n",
       " 55,\n",
       " 2,\n",
       " 29,\n",
       " 12,\n",
       " 84,\n",
       " 25,\n",
       " 88,\n",
       " 36,\n",
       " 46,\n",
       " 71,\n",
       " 31,\n",
       " 62,\n",
       " 64,\n",
       " 71]"
      ]
     },
     "execution_count": 21,
     "metadata": {},
     "output_type": "execute_result"
    }
   ],
   "source": [
    "random.shuffle(rand_int_list) # randomize the random list NOTE: this works on any list of anything\n",
    "rand_int_list"
   ]
  },
  {
   "cell_type": "code",
   "execution_count": 29,
   "id": "e5986729-c0f4-4fdd-9fda-bf90ebe49ef5",
   "metadata": {},
   "outputs": [
    {
     "name": "stdout",
     "output_type": "stream",
     "text": [
      "['red', 'green', 'blue', 'yellow', 'orange']\n",
      "\n",
      "[i] first shuffle:\t['green', 'yellow', 'orange', 'red', 'blue']\n",
      "[i] second shuffle:\t['red', 'green', 'blue', 'yellow', 'orange']\n",
      "[i] third shuffle:\t['blue', 'orange', 'green', 'yellow', 'red']\n"
     ]
    }
   ],
   "source": [
    "# shuffling an arbitrary list\n",
    "\n",
    "another_list = [\"red\", \"green\", \"blue\", \"yellow\", \"orange\"]\n",
    "print(another_list)\n",
    "print()\n",
    "\n",
    "random.shuffle(another_list)\n",
    "print(f\"[i] first shuffle:\\t{another_list}\")\n",
    "\n",
    "random.shuffle(another_list)\n",
    "print(f\"[i] second shuffle:\\t{another_list}\")\n",
    "\n",
    "random.shuffle(another_list)\n",
    "print(f\"[i] third shuffle:\\t{another_list}\")"
   ]
  },
  {
   "cell_type": "markdown",
   "id": "aaffb2b3-f6cc-4706-97bf-9e107cae2889",
   "metadata": {},
   "source": [
    "Back to our original list of numbers, let's say we want to get a random item from it.\n",
    "\n",
    "Here we go:"
   ]
  },
  {
   "cell_type": "code",
   "execution_count": 31,
   "id": "0ed7c44f-a0cd-4e9d-aa5b-20c55a9d2317",
   "metadata": {},
   "outputs": [
    {
     "data": {
      "text/plain": [
       "8"
      ]
     },
     "execution_count": 31,
     "metadata": {},
     "output_type": "execute_result"
    }
   ],
   "source": [
    "random.choice(rand_int_list)"
   ]
  },
  {
   "cell_type": "code",
   "execution_count": 33,
   "id": "77c76f8d-4967-4fe4-8008-87e03d758fcf",
   "metadata": {},
   "outputs": [
    {
     "data": {
      "text/plain": [
       "[99, 20, 99, 70, 70, 16, 84, 64, 21, 47, 17, 91, 2, 89, 67, 99, 12, 76, 16, 97]"
      ]
     },
     "execution_count": 33,
     "metadata": {},
     "output_type": "execute_result"
    }
   ],
   "source": [
    "# 20 random items (a subset of the random list, randomly selected)\n",
    "[random.choice(rand_int_list) for i in range(0,20)]"
   ]
  },
  {
   "cell_type": "markdown",
   "id": "c5f2e880-2015-4f94-abde-e5330bfe4bc3",
   "metadata": {},
   "source": [
    "**and so on ...**\n",
    "\n",
    "Ther is so much we can do with this, but just know it exists -- you never know when you need some random stuff ... "
   ]
  },
  {
   "cell_type": "markdown",
   "id": "7d317b83-f273-47cc-a9bb-107e0d4ff9f5",
   "metadata": {},
   "source": [
    "Two other modules you should know about:\n",
    "\n",
    "* [`statistics` &#8631;](https://docs.python.org/3/library/statistics.html) — Mathematical statistics functions not meant to replace SciPy or Numpy, but they are fast reliable and there for you when you are in a bind and don't want to way to install Anaconda!\n",
    "* [`cmath`  &#8631;](https://docs.python.org/3/library/cmath.html) — Mathematical functions for complex numbers\n",
    "\n",
    "Check these out -- as you can see there's a lot built in to Python that would help you get some basic things done without the complexity of Pandas, Numpy and ScikitLearn ... when you don't need it."
   ]
  },
  {
   "cell_type": "markdown",
   "id": "7da15a0a-ff32-45e6-b2a1-8e297fcd25d5",
   "metadata": {},
   "source": [
    "### File and Directory Access\n",
    "\n",
    "Here are some of the interesting and immediately useful modules for file and directory stuff:\n",
    "\n",
    "* [`pathlib` &#8631;](https://docs.python.org/3/library/pathlib.html) — Object-oriented filesystem paths\n",
    "* [`os.path` &#8631;](https://docs.python.org/3/library/os.path.html) — Common pathname manipulations\n",
    "* [`fileinput` &#8631;](https://docs.python.org/3/library/fileinput.html) — Iterate over lines from multiple input streams\n",
    "* [`filecmp` &#8631;](https://docs.python.org/3/library/filecmp.html) — File and Directory Comparisons\n",
    "* [`tempfile` &#8631;](https://docs.python.org/3/library/temp.html) — Generate temporary files and directories\n",
    "* [`glob` &#8631;](https://docs.python.org/3/library/glob.html) — Unix style pathname pattern expansion\n",
    "* [`fnmatch` &#8631;](https://docs.python.org/3/library/fnmatch.html) — Unix filename pattern matching\n",
    "* [`shutil` &#8631;](https://docs.python.org/3/library/shutil.html) — High-level file operations\n",
    "\n",
    "We leave it up to you explore, `glob` is immediately useful and obvious when you see [this example code]()."
   ]
  },
  {
   "cell_type": "code",
   "execution_count": 36,
   "id": "21e71d71-7404-418d-be43-4cc842cf3d6d",
   "metadata": {},
   "outputs": [],
   "source": [
    "import glob"
   ]
  },
  {
   "cell_type": "code",
   "execution_count": 70,
   "id": "17b19f94-be56-4384-8b36-982bb3063dd9",
   "metadata": {},
   "outputs": [
    {
     "data": {
      "text/plain": [
       "['data/glob_example\\\\file01.txt',\n",
       " 'data/glob_example\\\\file02.txt',\n",
       " 'data/glob_example\\\\file03.txt',\n",
       " 'data/glob_example\\\\file04.txt',\n",
       " 'data/glob_example\\\\file05.txt']"
      ]
     },
     "execution_count": 70,
     "metadata": {},
     "output_type": "execute_result"
    }
   ],
   "source": [
    "glob.glob(\"data/glob_example/*\")"
   ]
  },
  {
   "cell_type": "code",
   "execution_count": 71,
   "id": "46b8c2bb-91a2-48f2-a92f-d7e004277d24",
   "metadata": {},
   "outputs": [
    {
     "name": "stdout",
     "output_type": "stream",
     "text": [
      "[i] file data/glob_example\\file01.txt has 0 lines\n",
      "[i] file data/glob_example\\file02.txt has 0 lines\n",
      "[i] file data/glob_example\\file03.txt has 0 lines\n",
      "[i] file data/glob_example\\file04.txt has 0 lines\n",
      "[i] file data/glob_example\\file05.txt has 0 lines\n"
     ]
    }
   ],
   "source": [
    "for f in glob.glob(\"data/glob_example/*\"):\n",
    "    with open(f) as fi:\n",
    "        print(f\"[i] file {f} has {len(fi.readlines())} lines\")"
   ]
  },
  {
   "cell_type": "markdown",
   "id": "22d81776-a149-423f-87c3-8d8917e47edb",
   "metadata": {},
   "source": [
    "Combined with [`os.path` &#8631;](https://docs.python.org/3/library/os.path.html), we can do a little better and find the actual bytes of data:"
   ]
  },
  {
   "cell_type": "code",
   "execution_count": 72,
   "id": "5c834d80-1544-49f3-8bdd-54850f9f2850",
   "metadata": {},
   "outputs": [],
   "source": [
    "import os.path"
   ]
  },
  {
   "cell_type": "code",
   "execution_count": 77,
   "id": "f3aa2305-8cc9-41a5-bdd2-2e4dcf3715b4",
   "metadata": {},
   "outputs": [
    {
     "name": "stdout",
     "output_type": "stream",
     "text": [
      "[i] file data/glob_example\\file01.txt is 0 bytes\n",
      "[i] file data/glob_example\\file02.txt is 0 bytes\n",
      "[i] file data/glob_example\\file03.txt is 0 bytes\n",
      "[i] file data/glob_example\\file04.txt is 0 bytes\n",
      "[i] file data/glob_example\\file05.txt is 0 bytes\n"
     ]
    }
   ],
   "source": [
    "for f in glob.glob(\"data/glob_example/*\"):\n",
    "    print(f\"[i] file {f} is {os.path.getsize(f)} bytes\")"
   ]
  },
  {
   "cell_type": "markdown",
   "id": "05911df4-dac0-487b-895c-7744b882f1cb",
   "metadata": {},
   "source": [
    "Some of these functions are important to understand.  You never know when you'll need them!"
   ]
  }
 ],
 "metadata": {
  "kernelspec": {
   "display_name": "Python 3 (ipykernel)",
   "language": "python",
   "name": "python3"
  },
  "language_info": {
   "codemirror_mode": {
    "name": "ipython",
    "version": 3
   },
   "file_extension": ".py",
   "mimetype": "text/x-python",
   "name": "python",
   "nbconvert_exporter": "python",
   "pygments_lexer": "ipython3",
   "version": "3.11.8"
  }
 },
 "nbformat": 4,
 "nbformat_minor": 5
}
