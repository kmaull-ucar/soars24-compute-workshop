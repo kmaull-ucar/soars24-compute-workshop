{
 "cells": [
  {
   "cell_type": "markdown",
   "id": "c5a99df7-8278-477a-8d78-b85e16388c07",
   "metadata": {},
   "source": [
    "# Linked Notebook Example\n",
    "\n",
    "**NOTEBOOK #3**"
   ]
  },
  {
   "cell_type": "markdown",
   "id": "34692f76-108c-4473-9165-5a6f3e7f2e43",
   "metadata": {},
   "source": [
    "# Final Analysis\n",
    "\n",
    "Here we try to show why \n",
    "\n",
    "$$ f(x)= \\frac{1}{\\sigma\\sqrt{2\\pi}}e^-\\frac{(x-\\mu)^2}{2\\\n",
    "\\sigma^2}$$\n",
    "\n",
    "is an appropriate form for the implementation, or so we think.\n",
    "\n",
    "To see the previous assertions which led us here, \n",
    "\n",
    "* see the [prior notebook here](./w02_linked_example_nb2.ipynb) for prior code"
   ]
  },
  {
   "cell_type": "code",
   "execution_count": 1,
   "id": "5f955da0-4409-49dc-82ee-e54a5e09ef44",
   "metadata": {},
   "outputs": [],
   "source": [
    "def fnc(x, mu, sigma):\n",
    "    import math\n",
    "    p1 = 1 / sigma * math.sqrt(2*math.pi)\n",
    "    p2 = math.e * -1 * ((x-mu)**2) / (2 * sigma**2)\n",
    "    \n",
    "    return p1*p2"
   ]
  }
 ],
 "metadata": {
  "kernelspec": {
   "display_name": "Python 3 (ipykernel)",
   "language": "python",
   "name": "python3"
  },
  "language_info": {
   "codemirror_mode": {
    "name": "ipython",
    "version": 3
   },
   "file_extension": ".py",
   "mimetype": "text/x-python",
   "name": "python",
   "nbconvert_exporter": "python",
   "pygments_lexer": "ipython3",
   "version": "3.8.16"
  }
 },
 "nbformat": 4,
 "nbformat_minor": 5
}
