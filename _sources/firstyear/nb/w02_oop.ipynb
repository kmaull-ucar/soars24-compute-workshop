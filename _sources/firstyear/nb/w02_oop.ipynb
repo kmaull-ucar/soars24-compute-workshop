{
 "cells": [
  {
   "cell_type": "markdown",
   "id": "76dddb28-a04f-4a2d-b505-082916cd13f0",
   "metadata": {},
   "source": [
    "## Advanced Topic: Object-oriented programming in Python\n",
    "\n",
    "While an intermediate topic, it goes without saying that as your code gets more complex, you will be inclined to used deeper features of the programming language.\n",
    "\n",
    "One such feature is what are called \"objects\".  This is not meant to be a complete introduction to objects or object-oriented programming in Python, but rather a gentle introduction to the _conceptual_ framing of objects and how you might use them in your own programs.\n",
    "\n",
    "One easy way to think about objects is to rest your mind a little and look at your programs as more abstract components and the interplay of those components.  For example, when you think of the ideas around a \"list\", you can abstractly think about what it represents, what properties it has, and perhaps how the abstraction of a list differs from that, say of a set.  A set has the unique property that items in the set are not repeated, while in a list, not only can items be repeated, the ordering of those items is usually important -- and set  ordering is not usually important.  \n",
    "\n",
    "So _abstractly_ a list can be thought of as \n",
    "\n",
    "* an ordered grouping of things, that \n",
    "* things can be added to or removed from.\n",
    "\n",
    "So what might you want to _know_ about a list?  You might like to know:\n",
    "\n",
    "* how many things are in the list?\n",
    "* what kinds of  things (e.g. numbers, strings, other lists) are in the list?\n",
    "\n",
    "Also what might you want to _do_ to a list?  You might want to:\n",
    "\n",
    "* add and removed items from the list\n",
    "* remove all items from the list\n",
    "* take two lists and merge them\n",
    "* and so on ...\n",
    "\n",
    "You can see the things you might want to _do_ with the list may be large. In some cases we may not want to over-complicate the concept of a list, thus we might only want to think about the _essential_ operations and behaviors of a list, then let some end user of a list implement more complex behaviors within and for their own context.\n",
    "\n",
    "This is where the thoughtfulness in building abstractions becomes important:  too much abstraction may not be useful and end users may have difficulty understanding the _value_ (and _rationale_) for such abstractions; too little abstraction and the benefits purported benefits quickly diminish.  There is a careful balance that must be struck when developing abstractions, and there is often more art than science when building them.\n",
    "\n",
    "Abstractions in Python can be captured a number of ways, but one critical tool is the \"object\".  An object in Python is a tool that at some point you may consider integrating into your code.\n",
    "\n",
    "Initially, there are three things you will need to know about an object:\n",
    "\n",
    "1. objects have properties, that capture the _state_ of the object;\n",
    "2. objects have functions (also known as interfaces, APIs, etc.) which encode the _behavior_ of an object which are essential to perform actions on that object (and/or it interaction with other objects);\n",
    "3. objects have a lifespan -- that is they are _created_ and ultimately _destroyed_.\n",
    "\n",
    "The concepts **state** and **behavior** are essential to object-oriented programming.\n",
    "\n",
    "Objects are realized in what are called \"classes\", and classes are realized in what are called \"instances\".  We will \"instantiate\" a \"class\", where the \"class\" is the programmatic manifestation of the \"object\".  It sounds complex, but once you see it in action, it will be clearer.\n",
    "\n",
    "So let's get beyond the word games and play.\n",
    "\n",
    "### Demo: a Temperature object\n",
    "\n",
    "Let's say we want to abstract away the concept of \"temperature\".\n",
    "\n",
    "What exactly is \"temperature\"?  \n",
    "\n",
    "* it a measure of hotness or coldness\n",
    "* it is expressed with some known units on some known scale (can be arbitrary, but usually is informative, if it is)\n",
    "\n",
    "From this we can deduce \"temperature\", is, if not linear, increase or decreasing at some expected interval.  Let's say for now our \"temperature object\" is always linear so that when we use it, we can know what to expect: when the \"temperature\" goes up, it gets warmer, when it goes down, it gets cooler.\n",
    "\n",
    "Let's see how we might model this as an \"object\" in Python.  \n",
    "\n",
    "First, the syntax for a class in Python is relatively simple:\n",
    "\n",
    "```python\n",
    "class SomeClass:\n",
    "    pass # the implementation of that class.\n",
    "```\n",
    "\n",
    "Each class will need to have an `__init(self, ...)__` method.  This is call the \"constructor\" or \"initializer\".  It is necessary to create and instance of the class.  Our implementation looks like:\n",
    "\n",
    "```python\n",
    "class SomeClass:\n",
    "    def __init__(self): # the implementation of constructor\n",
    "        pass\n",
    "```\n",
    "\n",
    "We would want to store the temperature, and there are many ways to do this, but we will continue our introduction to objects in the notebook here:\n",
    "\n",
    "* [concrete implementation of `temperature` class](./nb/w02_temp_demo.ipynb)\n",
    "\n",
    "Object-oriented programming is powerful and you may not initially find it useful or intuitive.  But as you write more code, it will become a standard tool with how you approach your code.  Give it a try, and at the very least, remember it is just another tool to help you be effective.\n"
   ]
  },
  {
   "cell_type": "markdown",
   "id": "84589671-a009-4035-b1f8-fb934480a8be",
   "metadata": {},
   "source": [
    "Our `temperature` class will implement two attributes:\n",
    "\n",
    "* `tempC` which contains the temperature in C\n",
    "* `tempF` which contains the temperature in F\n",
    "\n",
    "We will implement the standard `__init__(self, ...)` constructor and two corresponding methods (class functions that will allow the C or F temperature to be set (`setC(self, temp)` and `setF(self, temp)`.\n",
    "\n",
    "To get data out, we will implement `getC(self)` and `getF(self)` which simply return the C and F temperatures correspondingly."
   ]
  },
  {
   "cell_type": "code",
   "execution_count": 2,
   "id": "d2115d98-aa63-485f-8318-e72008153b89",
   "metadata": {},
   "outputs": [],
   "source": [
    "t = Temperature(-100, \"F\")"
   ]
  },
  {
   "cell_type": "code",
   "execution_count": 3,
   "id": "5d0c9a5a-0478-444b-b8b6-898cdf39fede",
   "metadata": {},
   "outputs": [
    {
     "data": {
      "text/plain": [
       "-73.33333333333333"
      ]
     },
     "execution_count": 3,
     "metadata": {},
     "output_type": "execute_result"
    }
   ],
   "source": [
    "t.getC()"
   ]
  },
  {
   "cell_type": "code",
   "execution_count": 4,
   "id": "b5d33f77-1ccd-476f-b973-e41a018bde35",
   "metadata": {},
   "outputs": [],
   "source": [
    "t.setC(100)"
   ]
  },
  {
   "cell_type": "code",
   "execution_count": 1,
   "id": "06a9d273-14aa-45b1-9103-e15bc184cc5c",
   "metadata": {},
   "outputs": [],
   "source": [
    "class Temperature:\n",
    "    tempC = None\n",
    "    tempF = None\n",
    "    \n",
    "    def __init__(self, temp, scale):\n",
    "        if scale.lower() == \"c\":\n",
    "            self.tempC = temp\n",
    "            self.tempF = self.__toF(temp) \n",
    "            # consider: do we want to check for out of bounds\n",
    "        elif scale.lower() == \"f\":\n",
    "            self.tempF = temp\n",
    "            self.tempC = self.__toC(temp)\n",
    "        else:\n",
    "            raise ValueError(\"Scale must be 'F' or 'C' for Farenheit or Celsius\") \n",
    "    \n",
    "    def __toF(self, temp): # private \"internal-only\" conversion\n",
    "        return (9/5) * temp + 32\n",
    "    \n",
    "    def __toC(self, temp):\n",
    "        return (temp - 32)*5/9 \n",
    "    \n",
    "    def setC(self, temp): # set temp in C\n",
    "        self.tempC = temp\n",
    "        self.tempF = self.__toF(temp)\n",
    "\n",
    "    def setF(self, temp): # set temp in F\n",
    "        self.tempF = temp\n",
    "        self.tempC = self.__toC(temp)\n",
    "        \n",
    "    def getC(self):\n",
    "        return self.tempC\n",
    "    \n",
    "    def getF(self):\n",
    "        return self.tempF"
   ]
  },
  {
   "cell_type": "code",
   "execution_count": 2,
   "id": "68f0f9ad-1a95-4878-83eb-d3df92293b10",
   "metadata": {},
   "outputs": [],
   "source": [
    "t = Temperature(-100, \"F\")"
   ]
  },
  {
   "cell_type": "code",
   "execution_count": 3,
   "id": "b99bb6f5-5d3a-4e7f-907d-497de63c8049",
   "metadata": {},
   "outputs": [
    {
     "data": {
      "text/plain": [
       "-73.33333333333333"
      ]
     },
     "execution_count": 3,
     "metadata": {},
     "output_type": "execute_result"
    }
   ],
   "source": [
    "t.getC()"
   ]
  },
  {
   "cell_type": "code",
   "execution_count": 4,
   "id": "45c37894-b465-48ad-bc1e-7d76121d6a26",
   "metadata": {},
   "outputs": [],
   "source": [
    "t.setC(100)"
   ]
  },
  {
   "cell_type": "code",
   "execution_count": 5,
   "id": "86c800c2-f2ec-4688-95f0-ac97b9aa9560",
   "metadata": {},
   "outputs": [
    {
     "data": {
      "text/plain": [
       "100"
      ]
     },
     "execution_count": 5,
     "metadata": {},
     "output_type": "execute_result"
    }
   ],
   "source": [
    "t.getC()"
   ]
  },
  {
   "cell_type": "code",
   "execution_count": 6,
   "id": "02367d7d-24bc-4061-92aa-4282301df8b7",
   "metadata": {},
   "outputs": [
    {
     "data": {
      "text/plain": [
       "212.0"
      ]
     },
     "execution_count": 6,
     "metadata": {},
     "output_type": "execute_result"
    }
   ],
   "source": [
    "t.getF()"
   ]
  },
  {
   "cell_type": "code",
   "execution_count": 7,
   "id": "3ab43251-e136-4f05-9dc4-d438f479f4dc",
   "metadata": {},
   "outputs": [],
   "source": [
    "t.setF(70)"
   ]
  },
  {
   "cell_type": "code",
   "execution_count": 8,
   "id": "3bea0dd3-a366-48af-a4c7-2e7d226015e0",
   "metadata": {},
   "outputs": [
    {
     "data": {
      "text/plain": [
       "70"
      ]
     },
     "execution_count": 8,
     "metadata": {},
     "output_type": "execute_result"
    }
   ],
   "source": [
    "t.getF()"
   ]
  },
  {
   "cell_type": "code",
   "execution_count": 9,
   "id": "68f65526-9cd9-4f6e-a798-e1a815b50eb0",
   "metadata": {},
   "outputs": [
    {
     "data": {
      "text/plain": [
       "21.11111111111111"
      ]
     },
     "execution_count": 9,
     "metadata": {},
     "output_type": "execute_result"
    }
   ],
   "source": [
    "t.getC()"
   ]
  },
  {
   "cell_type": "markdown",
   "id": "3d7c3f6d-cef4-4824-8a8b-0f3fd9e2064e",
   "metadata": {},
   "source": [
    "One might ask why would this be valuable?  Why wouldn't we just implement the conversion functions and go with that?  This seems like an overkill.\n",
    "\n",
    "Wait a minute before leaving this to rest.\n",
    "\n",
    "Have you ever wanted to add or subtract to temperatures which were in different scales?\n",
    "\n",
    "If you only implemented the functions to convert these, you'd have to know the units and do the conversion accordingly, like so:"
   ]
  },
  {
   "cell_type": "code",
   "execution_count": 10,
   "id": "e72983ba-6275-4c8c-9375-026b4bbd28a5",
   "metadata": {},
   "outputs": [
    {
     "data": {
      "text/plain": [
       "102.0"
      ]
     },
     "execution_count": 10,
     "metadata": {},
     "output_type": "execute_result"
    }
   ],
   "source": [
    "f_temp = 70 \n",
    "c_temp = 0\n",
    "\n",
    "def convert_to_C(f):\n",
    "    return (f - 32)*5/9 \n",
    "\n",
    "def convert_to_F(c):\n",
    "    return (9/5) * c + 32\n",
    "\n",
    "f_temp + convert_to_F(c_temp)"
   ]
  },
  {
   "cell_type": "markdown",
   "id": "08e2ffbe-ef39-4bc3-9032-cecb33eacd60",
   "metadata": {},
   "source": [
    "But what if we used objects?\n",
    "\n",
    "In Python, if we implement a class, there is a special function named `__add()` that allows\n",
    "us to \"override\" or \"overload\" the behavior of the `+` operator.  It is beyond the scope of\n",
    "this notebook to go into the details of \"overloading\", but this resource will get you started:\n",
    "\n",
    "* [Operator and Function Overloading in Custom Python Classes (realpython.com)](https://realpython.com/operator-function-overloading/)"
   ]
  },
  {
   "cell_type": "code",
   "execution_count": 11,
   "id": "895f8f40-59a9-4e21-bd03-703efdaab855",
   "metadata": {},
   "outputs": [],
   "source": [
    "class Temperature:\n",
    "    tempC = None\n",
    "    tempF = None\n",
    "    \n",
    "    def __init__(self, temp, scale):\n",
    "        if scale.lower() == \"c\":\n",
    "            self.tempC = temp\n",
    "            self.tempF = self.__toF(temp) \n",
    "            # consider: do we want to check for out of bounds\n",
    "        elif scale.lower() == \"f\":\n",
    "            self.tempF = temp\n",
    "            self.tempC = self.__toC(temp)\n",
    "        else:\n",
    "            raise ValueError(\"Scale must be 'F' or 'C' for Farenheit or Celsius\") \n",
    "    \n",
    "    def __add__(self, tObj):        \n",
    "        if self.tempC == 0 or tObj.getC() == 0:\n",
    "            return Temperature(self.tempF + tObj.getF(), \"F\")\n",
    "        elif self.tempF == 0 or tObj.getF() == 0:\n",
    "            return Temperature(self.tempC + tObj.getC(), \"C\")\n",
    "    \n",
    "    def __toF(self, temp): # private \"internal-only\" conversion\n",
    "        return (9/5) * temp + 32\n",
    "    \n",
    "    def __toC(self, temp):\n",
    "        return (temp - 32)*5/9 \n",
    "    \n",
    "    def setC(self, temp): # set temp in C\n",
    "        self.tempC = temp\n",
    "        self.tempF = self.__toF(temp)\n",
    "\n",
    "    def setF(self, temp): # set temp in F\n",
    "        self.tempF = temp\n",
    "        self.tempC = self.__toC(temp)\n",
    "        \n",
    "    def getC(self):\n",
    "        return self.tempC\n",
    "    \n",
    "    def getF(self):\n",
    "        return self.tempF"
   ]
  },
  {
   "cell_type": "markdown",
   "id": "1e98d9b1-b1fb-4b8e-a292-013617e72ba4",
   "metadata": {},
   "source": [
    "You might notice the implemenation of `__add__` has a little going on.\n",
    "\n",
    "Namely, when we add two 0 temperatures in each scale, if we stay in that scale, we end up with the other scale not appropriately reflecting the addition.\n",
    "\n",
    "**WARNING:** This simple implementation is incomplete and requires some more thought, since the `scale` you want to add, may make a difference.  For example, I may want to add two 0 degree F and get 0, or I may want to add them and get the proper C ... there are _design decisions_ that are required here.  Again, it is beyond the scope of this notebook, but such decisions are very important as they will provide the _expected_ behavior given the context of your code.\n",
    "\n",
    "You will notice **very unexpected behavior when doing**:\n",
    "```python\n",
    "t1 = Temperature(0, \"F\")\n",
    "t2 = Temperature(32, \"F\")\n",
    "\n",
    "t3 = Temperature(t1.getC()+t2.getC(), \"C\")\n",
    "t3.getF() # ==> 0???\n",
    "```\n",
    "\n",
    "Perhaps we need to think a little about whether we want to add temperatures at all or to store the initializer reference units and use that to make the addition in the initial units or a _target_ unit.\n",
    "\n",
    "There may be other possibilities as well ..."
   ]
  },
  {
   "cell_type": "code",
   "execution_count": 12,
   "id": "dffd2376-8f8a-471d-9422-9518030d7345",
   "metadata": {},
   "outputs": [],
   "source": [
    "t1 = Temperature(32, \"F\")\n",
    "t2 = Temperature(32, \"F\")"
   ]
  },
  {
   "cell_type": "code",
   "execution_count": 13,
   "id": "4cbf8603-b006-44f2-98ce-f407c29afdc6",
   "metadata": {},
   "outputs": [
    {
     "data": {
      "text/plain": [
       "32.0"
      ]
     },
     "execution_count": 13,
     "metadata": {},
     "output_type": "execute_result"
    }
   ],
   "source": [
    "Temperature(t1.getC()+t2.getC(), \"C\").getF()"
   ]
  },
  {
   "cell_type": "code",
   "execution_count": 14,
   "id": "2361d16d-b9b5-4f9b-a90d-2295de325f87",
   "metadata": {},
   "outputs": [],
   "source": [
    "t3 = t1+t2"
   ]
  },
  {
   "cell_type": "code",
   "execution_count": 15,
   "id": "af09b5d0-7200-48d8-9122-f7dda742bf95",
   "metadata": {},
   "outputs": [
    {
     "data": {
      "text/plain": [
       "32"
      ]
     },
     "execution_count": 15,
     "metadata": {},
     "output_type": "execute_result"
    }
   ],
   "source": [
    "t1.getF()"
   ]
  },
  {
   "cell_type": "code",
   "execution_count": 16,
   "id": "6dde4a8a-7cb3-4865-b48e-2b3d30f55b4a",
   "metadata": {},
   "outputs": [
    {
     "data": {
      "text/plain": [
       "32"
      ]
     },
     "execution_count": 16,
     "metadata": {},
     "output_type": "execute_result"
    }
   ],
   "source": [
    "t2.getF()"
   ]
  },
  {
   "cell_type": "code",
   "execution_count": 17,
   "id": "201df905-dd3a-4d92-9671-543282a26fd9",
   "metadata": {},
   "outputs": [
    {
     "data": {
      "text/plain": [
       "64"
      ]
     },
     "execution_count": 17,
     "metadata": {},
     "output_type": "execute_result"
    }
   ],
   "source": [
    "t3.getF()"
   ]
  },
  {
   "cell_type": "code",
   "execution_count": null,
   "id": "6ed11703-80ba-41c7-9ce0-6f941a69579a",
   "metadata": {},
   "outputs": [],
   "source": []
  }
 ],
 "metadata": {
  "kernelspec": {
   "display_name": "Python 3 (ipykernel)",
   "language": "python",
   "name": "python3"
  },
  "language_info": {
   "codemirror_mode": {
    "name": "ipython",
    "version": 3
   },
   "file_extension": ".py",
   "mimetype": "text/x-python",
   "name": "python",
   "nbconvert_exporter": "python",
   "pygments_lexer": "ipython3",
   "version": "3.8.11"
  }
 },
 "nbformat": 4,
 "nbformat_minor": 5
}
